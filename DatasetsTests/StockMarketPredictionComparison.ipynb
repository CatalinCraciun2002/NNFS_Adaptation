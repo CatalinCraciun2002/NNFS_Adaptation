{
 "cells": [
  {
   "cell_type": "code",
   "execution_count": 1,
   "metadata": {
    "collapsed": true
   },
   "outputs": [
    {
     "name": "stdout",
     "output_type": "stream",
     "text": [
      "         Date       Open       High        Low      Close  Adj Close    Volume\n",
      "0  2017-10-17  49.514500  49.821999  49.429501  49.609001  49.609001  25804000\n",
      "1  2017-10-18  49.588501  49.835999  49.348751  49.640499  49.640499  21152000\n",
      "2  2017-10-19  49.299999  49.444000  48.919498  49.222500  49.222500  26272000\n",
      "3  2017-10-20  49.472000  49.549999  49.229000  49.410000  49.410000  23664000\n",
      "4  2017-10-23  49.476002  49.476002  48.306000  48.422501  48.422501  29568000\n"
     ]
    }
   ],
   "source": [
    "'''\n",
    "dataset: https://finance.yahoo.com/quote/GOOG/history?p=GOOG\n",
    "The code for the data format was adapted from this github repository: https://github.com/bnsreenu/python_for_microscopists\n",
    "'''\n",
    "\n",
    "import numpy as np\n",
    "from keras.models import Sequential\n",
    "from keras.layers import LSTM\n",
    "from keras.layers import Dense, Dropout, SimpleRNN\n",
    "import pandas as pd\n",
    "from matplotlib import pyplot as plt\n",
    "from sklearn.preprocessing import StandardScaler\n",
    "import seaborn as sns\n",
    "\n",
    "\n",
    "#Read the csv file\n",
    "df = pd.read_csv('C:/Users/craci/DataSpellProjects/Adaptation_NNfs/StockMarketDataset/GOOG.csv')\n",
    "\n",
    "\n",
    "print(df.head()) #7 columns, including the Date."
   ]
  },
  {
   "cell_type": "code",
   "execution_count": 2,
   "outputs": [
    {
     "name": "stdout",
     "output_type": "stream",
     "text": [
      "1243   2022-09-26\n",
      "1244   2022-09-27\n",
      "1245   2022-09-28\n",
      "1246   2022-09-29\n",
      "1247   2022-09-30\n",
      "1248   2022-10-03\n",
      "1249   2022-10-04\n",
      "1250   2022-10-05\n",
      "1251   2022-10-06\n",
      "1252   2022-10-07\n",
      "1253   2022-10-10\n",
      "1254   2022-10-11\n",
      "1255   2022-10-12\n",
      "1256   2022-10-13\n",
      "1257   2022-10-14\n",
      "Name: Date, dtype: datetime64[ns]\n"
     ]
    }
   ],
   "source": [
    "#Separate dates for future plotting\n",
    "train_dates = pd.to_datetime(df['Date'])\n",
    "print(train_dates.tail(15)) #Check last few dates."
   ],
   "metadata": {
    "collapsed": false
   }
  },
  {
   "cell_type": "code",
   "execution_count": 3,
   "outputs": [
    {
     "name": "stdout",
     "output_type": "stream",
     "text": [
      "['Open', 'High', 'Low', 'Close', 'Adj Close']\n"
     ]
    },
    {
     "data": {
      "text/plain": "<matplotlib.axes._subplots.AxesSubplot at 0x1d560765460>"
     },
     "execution_count": 3,
     "metadata": {},
     "output_type": "execute_result"
    },
    {
     "data": {
      "text/plain": "<Figure size 432x288 with 1 Axes>",
      "image/png": "[encoded data removed]"
     },
     "metadata": {},
     "output_type": "display_data"
    }
   ],
   "source": [
    "#Variables for training\n",
    "cols = list(df)[1:6]\n",
    "#Date and volume columns are not used in training.\n",
    "print(cols) #['Open', 'High', 'Low', 'Close', 'Adj Close']\n",
    "\n",
    "#New dataframe with only training data - 5 columns\n",
    "df_for_training = df[cols].astype(float)\n",
    "\n",
    "df_for_plot=df_for_training.tail(5000)\n",
    "df_for_plot.plot.line()"
   ],
   "metadata": {
    "collapsed": false
   }
  },
  {
   "cell_type": "code",
   "execution_count": 4,
   "outputs": [
    {
     "name": "stdout",
     "output_type": "stream",
     "text": [
      "(1258, 5)\n",
      "-1.1298378553142838\n",
      "2.120081597526207\n",
      "X shape == (1256, 2, 5).\n",
      "Y shape == (1256, 1).\n",
      "1256\n",
      "1004\n",
      "1129\n",
      "(1004, 2, 5)\n",
      "(125, 2, 5)\n",
      "(127, 2, 5)\n"
     ]
    }
   ],
   "source": [
    "from sklearn.model_selection import train_test_split\n",
    "\n",
    "class Scaler_1_1():\n",
    "\n",
    "    def __init__(self, x):\n",
    "\n",
    "        self.min_x = x.min()\n",
    "        x_s= x  - self.min_x\n",
    "        self.max_x = x_s.max()\n",
    "\n",
    "    def scale_forward(self, x):\n",
    "\n",
    "        x-=self.min_x\n",
    "        x_final = x/ x.max() * 2 - 1\n",
    "\n",
    "        return x_final\n",
    "\n",
    "    def scale_back(self, x):\n",
    "\n",
    "        x_final = (x +1)/2 * self.max_x\n",
    "\n",
    "\n",
    "# normalize the dataset\n",
    "scaler = StandardScaler()\n",
    "scaler = scaler.fit(df_for_training)\n",
    "df_for_training_scaled = scaler.transform(df_for_training)\n",
    "\n",
    "#second_scalere = Scaler_1_1(df_for_training_scaled)\n",
    "#df_for_training_scaled = second_scalere.scale_forward(df_for_training_scaled)\n",
    "\n",
    "\n",
    "print(df_for_training_scaled.shape)\n",
    "print(df_for_training_scaled.min())\n",
    "print(df_for_training_scaled.max())\n",
    "\n",
    "#In this example, the n_features is 5. We will make timesteps = 14 (past days data used for training).\n",
    "\n",
    "#Empty lists to be populated using formatted training data\n",
    "X = []\n",
    "Y = []\n",
    "\n",
    "n_future = 1   # Number of days we want to look into the future based on the past days.\n",
    "n_past = 2  # Number of past days we want to use to predict the future.\n",
    "\n",
    "#Reformat input data into a shape: (n_samples x timesteps x n_features)\n",
    "#In my example, my df_for_training_scaled has a shape (1258, 5)\n",
    "#1258 refers to the number of data points and 5 refers to the columns (multi-variables)\n",
    "#This model is going to predict the closing price for the next trading day\n",
    "for i in range(n_past, len(df_for_training_scaled) - n_future +1):\n",
    "    X.append(df_for_training_scaled[i - n_past:i, 0:df_for_training.shape[1]])\n",
    "    Y.append(df_for_training_scaled[i + n_future - 1:i + n_future, 3])\n",
    "\n",
    "X, Y = np.array(X), np.array(Y)\n",
    "\n",
    "print('X shape == {}.'.format(X.shape))\n",
    "print('Y shape == {}.'.format(Y.shape))\n",
    "\n",
    "train_split = int(len(X)/100 * 80)\n",
    "valid_split = train_split + int(len(X)/100 * 10)\n",
    "\n",
    "print(len(X))\n",
    "print(train_split)\n",
    "print(valid_split)\n",
    "\n",
    "x_train, y_train = X[0:train_split], Y[0:train_split]\n",
    "x_valid, y_valid = X[train_split:valid_split], Y[train_split:valid_split]\n",
    "x_test, y_test = X[valid_split:], Y[valid_split:]\n",
    "\n",
    "print(np.shape(x_train))\n",
    "print(np.shape(x_valid))\n",
    "print(np.shape(x_test))\n"
   ],
   "metadata": {
    "collapsed": false
   }
  },
  {
   "cell_type": "code",
   "execution_count": 5,
   "outputs": [
    {
     "name": "stdout",
     "output_type": "stream",
     "text": [
      "WARNING:tensorflow:Layer lstm will not use cuDNN kernels since it doesn't meet the criteria. It will use a generic GPU kernel as fallback when running on GPU.\n",
      "Model: \"sequential\"\n",
      "_________________________________________________________________\n",
      " Layer (type)                Output Shape              Param #   \n",
      "=================================================================\n",
      " lstm (LSTM)                 (None, 64)                17920     \n",
      "                                                                 \n",
      " dropout (Dropout)           (None, 64)                0         \n",
      "                                                                 \n",
      " dense (Dense)               (None, 1)                 65        \n",
      "                                                                 \n",
      "=================================================================\n",
      "Total params: 17,985\n",
      "Trainable params: 17,985\n",
      "Non-trainable params: 0\n",
      "_________________________________________________________________\n"
     ]
    }
   ],
   "source": [
    "\n",
    "model_keras_lstm = Sequential()\n",
    "model_keras_lstm.add(LSTM(64, activation='relu', input_shape=(x_train.shape[1], x_train.shape[2]), return_sequences=False))\n",
    "#model_keras_lstm.add(LSTM(32, activation='relu', return_sequences=False))\n",
    "model_keras_lstm.add(Dropout(0.2))\n",
    "model_keras_lstm.add(Dense(Y.shape[1]))\n",
    "\n",
    "model_keras_lstm.compile(optimizer='adam', loss='mse')\n",
    "model_keras_lstm.summary()"
   ],
   "metadata": {
    "collapsed": false
   }
  },
  {
   "cell_type": "code",
   "execution_count": 6,
   "outputs": [
    {
     "name": "stdout",
     "output_type": "stream",
     "text": [
      "Model: \"sequential_1\"\n",
      "_________________________________________________________________\n",
      " Layer (type)                Output Shape              Param #   \n",
      "=================================================================\n",
      " simple_rnn (SimpleRNN)      (None, 64)                4480      \n",
      "                                                                 \n",
      " dropout_1 (Dropout)         (None, 64)                0         \n",
      "                                                                 \n",
      " dense_1 (Dense)             (None, 1)                 65        \n",
      "                                                                 \n",
      "=================================================================\n",
      "Total params: 4,545\n",
      "Trainable params: 4,545\n",
      "Non-trainable params: 0\n",
      "_________________________________________________________________\n"
     ]
    }
   ],
   "source": [
    "\n",
    "model_keras_rnn = Sequential()\n",
    "model_keras_rnn.add(SimpleRNN(64, activation='relu', input_shape=(x_train.shape[1], x_train.shape[2]), return_sequences=False))\n",
    "#model_keras_rnn.add(SimpleRNN(32, activation='relu', input_shape=(x_train.shape[1], x_train.shape[2]), return_sequences=False))\n",
    "model_keras_rnn.add(Dropout(0.2))\n",
    "model_keras_rnn.add(Dense(Y.shape[1]))\n",
    "\n",
    "model_keras_rnn.compile(optimizer='adam', loss='mse')\n",
    "model_keras_rnn.summary()"
   ],
   "metadata": {
    "collapsed": false
   }
  },
  {
   "cell_type": "code",
   "execution_count": 7,
   "outputs": [
    {
     "name": "stdout",
     "output_type": "stream",
     "text": [
      "Epoch 1/5\n",
      "63/63 [==============================] - 3s 15ms/step - loss: 0.3837 - val_loss: 0.1030\n",
      "Epoch 2/5\n",
      "63/63 [==============================] - 1s 13ms/step - loss: 0.0206 - val_loss: 0.0466\n",
      "Epoch 3/5\n",
      "63/63 [==============================] - 1s 11ms/step - loss: 0.0164 - val_loss: 0.0133\n",
      "Epoch 4/5\n",
      "63/63 [==============================] - 1s 11ms/step - loss: 0.0163 - val_loss: 0.0157\n",
      "Epoch 5/5\n",
      "63/63 [==============================] - 1s 11ms/step - loss: 0.0140 - val_loss: 0.0200\n"
     ]
    }
   ],
   "source": [
    "\n",
    "\n",
    "# fit the model_keras_lstm\n",
    "history_lstm = model_keras_lstm.fit(x_train, y_train, epochs=5, batch_size=16, validation_data=(x_valid, y_valid), verbose=1)"
   ],
   "metadata": {
    "collapsed": false
   }
  },
  {
   "cell_type": "code",
   "execution_count": 8,
   "outputs": [
    {
     "name": "stdout",
     "output_type": "stream",
     "text": [
      "Epoch 1/5\n",
      "63/63 [==============================] - 1s 9ms/step - loss: 0.2290 - val_loss: 0.0163\n",
      "Epoch 2/5\n",
      "63/63 [==============================] - 0s 6ms/step - loss: 0.0409 - val_loss: 0.0159\n",
      "Epoch 3/5\n",
      "63/63 [==============================] - 0s 6ms/step - loss: 0.0301 - val_loss: 0.0223\n",
      "Epoch 4/5\n",
      "63/63 [==============================] - 0s 7ms/step - loss: 0.0204 - val_loss: 0.0132\n",
      "Epoch 5/5\n",
      "63/63 [==============================] - 0s 7ms/step - loss: 0.0188 - val_loss: 0.0196\n"
     ]
    }
   ],
   "source": [
    "\n",
    "# fit the model_keras_rnn\n",
    "history_rnn = model_keras_rnn.fit(x_train, y_train, epochs=5, batch_size=16, validation_data=(x_valid, y_valid), verbose=1)"
   ],
   "metadata": {
    "collapsed": false
   }
  },
  {
   "cell_type": "code",
   "execution_count": 9,
   "outputs": [],
   "source": [
    "%load_ext autoreload\n",
    "%autoreload 2\n",
    "\n",
    "from  NNImplementation import BasicClasses as cls\n",
    "from  NNImplementation import RNNClasses as rnn\n",
    "\n",
    "epochs = 50\n",
    "batch_size = 16\n",
    "input_clases = x_train.shape[2]\n",
    "memory_duration = x_train.shape[1]\n",
    "layer1_neurons = 64\n",
    "layer2_neurons = 32\n",
    "\n",
    "optimizerRNN = rnn.OptimizerAdamRNN(learning_rate=0.001)\n",
    "simple_optimizer = cls.OptimizerAdam(learning_rate=0.001)\n",
    "\n",
    "layer1_rnn = rnn.RNNLayer(input_clases, layer1_neurons, activation=cls.ActivationLinear(), memory_duration=memory_duration)\n",
    "layer3_rnn = cls.Layer(layer1_neurons, 1)\n",
    "activation3_rnn = cls.ActivationSigmoid()\n",
    "loss_rnn = cls.LossMeanSquaredError()\n",
    "\n",
    "def reshape_inputs(x_current):\n",
    "\n",
    "    x_current = np.array([[x_current[i,j]   for i in range(len(x_current))] for j in range(len(x_current[0]))])\n",
    "\n",
    "    return x_current\n",
    "\n",
    "def forward_rnn(memory_duration, X_current, Y_current, add_epsilon=False, epsilon=0):\n",
    "\n",
    "    X_current = reshape_inputs(X_current)\n",
    "    layer1_rnn.forward_through_time(X_current, add_epsilon=add_epsilon, epsilon=epsilon)\n",
    "    layer3_rnn.forward(layer1_rnn.outputs)\n",
    "    activation3_rnn.forward(layer3_rnn.outputs)\n",
    "    loss_rnn.forward(activation3_rnn.outputs, Y_current[memory_duration-1])\n",
    "\n",
    "    return activation3_rnn.outputs\n",
    "\n",
    "def backward_rnn(memory_duration, X_current, Y_current):\n",
    "\n",
    "    X_current = reshape_inputs(X_current)\n",
    "    loss_rnn.backward(activation3_rnn.outputs, Y_current[memory_duration - 1])\n",
    "    activation3_rnn.backward(loss_rnn.dinputs)\n",
    "    layer3_rnn.backward(activation3_rnn.dinputs)\n",
    "    layer1_rnn.backward_through_time(layer3_rnn.dinputs, X_current)\n",
    "\n",
    "    return layer1_rnn.deposit"
   ],
   "metadata": {
    "collapsed": false
   }
  },
  {
   "cell_type": "code",
   "execution_count": 10,
   "outputs": [
    {
     "name": "stdout",
     "output_type": "stream",
     "text": [
      "The autoreload extension is already loaded. To reload it, use:\n",
      "  %reload_ext autoreload\n",
      "Loss at epoch 0 is: 1.0808504933876857\n",
      "-0.0006374628264594319\n",
      "-0.000637461560981265\n",
      "Loss at epoch 1 is: 0.5095329579549063\n",
      "-7.155027499118057e-05\n",
      "-7.155321361944846e-05\n",
      "Loss at epoch 2 is: 0.5013798826934307\n",
      "2.527608821610213e-06\n",
      "2.5239238165531736e-06\n",
      "Loss at epoch 3 is: 0.5002137230848391\n",
      "5.224145365373127e-06\n",
      "5.226363346590646e-06\n",
      "Loss at epoch 4 is: 0.4985818551388143\n",
      "6.85187799936861e-06\n",
      "6.86482354695789e-06\n",
      "Loss at epoch 5 is: 0.495428821506714\n",
      "4.5756350988158045e-06\n",
      "4.590307281999795e-06\n",
      "Loss at epoch 6 is: 0.49564305057280583\n",
      "5.262958229765904e-07\n",
      "5.333586873506508e-07\n",
      "Loss at epoch 7 is: 0.496594328467958\n",
      "5.72785481064585e-06\n",
      "5.730786455193281e-06\n",
      "Loss at epoch 8 is: 0.49607586211143295\n",
      "6.000760577358092e-07\n",
      "6.018777716606669e-07\n",
      "Loss at epoch 9 is: 0.49724065553048735\n",
      "5.624276510039768e-06\n",
      "5.618669972974433e-06\n",
      "Loss at epoch 10 is: 0.4953186445783009\n",
      "4.901855954657779e-07\n",
      "4.911025475744463e-07\n",
      "Loss at epoch 11 is: 0.49610431522963744\n",
      "4.180351572817268e-06\n",
      "4.172483587061953e-06\n",
      "Loss at epoch 12 is: 0.4960343044897694\n",
      "3.540219663638194e-07\n",
      "3.407078458108626e-07\n",
      "Loss at epoch 13 is: 0.49710686760365547\n",
      "4.1549362469745175e-06\n",
      "4.16780518691664e-06\n",
      "Loss at epoch 14 is: 0.4949628437970168\n",
      "-1.9179929925134107e-07\n",
      "-2.053084590599422e-07\n",
      "Loss at epoch 15 is: 0.49544190326283316\n",
      "2.0482866439424625e-06\n",
      "2.0519772951198157e-06\n",
      "Loss at epoch 16 is: 0.4954341506115829\n",
      "-2.7154584461152764e-07\n",
      "-3.050955997069224e-07\n",
      "Loss at epoch 17 is: 0.4964261900797505\n",
      "2.1515393035600857e-06\n",
      "2.1648091039628174e-06\n",
      "Loss at epoch 18 is: 0.4951986224174241\n",
      "-7.017537203724548e-07\n",
      "-6.98046717168756e-07\n",
      "Loss at epoch 19 is: 0.4957846015803528\n",
      "1.1642372217722127e-06\n",
      "1.1767221695925128e-06\n",
      "Loss at epoch 20 is: 0.49522312644230365\n",
      "-3.7415426639983493e-07\n",
      "-3.8287332810186417e-07\n",
      "Loss at epoch 21 is: 0.4961549638131027\n",
      "8.807439662190313e-07\n",
      "9.015918183333656e-07\n",
      "Loss at epoch 22 is: 0.49508974808362255\n",
      "-1.9578997518002933e-07\n",
      "-2.186515724453907e-07\n",
      "Loss at epoch 23 is: 0.49588652075964523\n",
      "5.12251695921189e-07\n",
      "5.248113770365423e-07\n",
      "Loss at epoch 24 is: 0.4950386056676984\n",
      "1.0861426458389469e-08\n",
      "1.5371564022715958e-08\n",
      "Loss at epoch 25 is: 0.49600392179228603\n",
      "3.4827061272733727e-07\n",
      "3.421527003060034e-07\n",
      "Loss at epoch 26 is: 0.49499919712132606\n",
      "1.5971202852798284e-07\n",
      "1.447421664614638e-07\n",
      "Loss at epoch 27 is: 0.49590587868506547\n",
      "2.27693993051975e-07\n",
      "2.3599147996051366e-07\n",
      "Loss at epoch 28 is: 0.49500093290396896\n",
      "2.389457405647353e-07\n",
      "2.439073387141935e-07\n",
      "Loss at epoch 29 is: 0.4959065670595696\n",
      "1.5386035643292529e-07\n",
      "1.5798465214370872e-07\n",
      "Loss at epoch 30 is: 0.49501699843846275\n",
      "3.02658872229887e-07\n",
      "2.7993090208460634e-07\n",
      "Loss at epoch 31 is: 0.4958509915212701\n",
      "1.0272177773382188e-07\n",
      "1.144434702170967e-07\n",
      "Loss at epoch 32 is: 0.49503273953021915\n",
      "3.344415990109688e-07\n",
      "3.286009740708451e-07\n",
      "Loss at epoch 33 is: 0.4958213634052067\n",
      "6.486256540203487e-08\n",
      "4.74962126262482e-08\n",
      "Loss at epoch 34 is: 0.49505055078893984\n",
      "3.5877944870889426e-07\n",
      "3.5707092996348726e-07\n",
      "Loss at epoch 35 is: 0.495776980380367\n",
      "3.647548131219248e-08\n",
      "2.1282240598460966e-08\n",
      "Loss at epoch 36 is: 0.49506146379642746\n",
      "3.7235372773570216e-07\n",
      "3.7817984234860273e-07\n",
      "Loss at epoch 37 is: 0.49572989486084995\n",
      "1.2804162233277602e-08\n",
      "1.7769003387631045e-08\n",
      "Loss at epoch 38 is: 0.49506694216141195\n",
      "3.804299687587643e-07\n",
      "3.669549704498099e-07\n",
      "Loss at epoch 39 is: 0.49567365135876307\n",
      "-7.365205855849918e-09\n",
      "1.957604062085876e-09\n",
      "Loss at epoch 40 is: 0.495064819867649\n",
      "3.834969016011617e-07\n",
      "3.745066861786495e-07\n",
      "Loss at epoch 41 is: 0.49560356214254603\n",
      "-2.4802814588377326e-08\n",
      "-2.5769508452483055e-08\n",
      "Loss at epoch 42 is: 0.4950535184571741\n",
      "3.8068347968719885e-07\n",
      "3.684358054634175e-07\n",
      "Loss at epoch 43 is: 0.49551532864213504\n",
      "-3.872574201172999e-08\n",
      "-4.6269786069628386e-08\n",
      "Loss at epoch 44 is: 0.49503294990466146\n",
      "3.6880171303317377e-07\n",
      "3.6602461651854267e-07\n",
      "Loss at epoch 45 is: 0.4954029558266203\n",
      "-4.525976113113457e-08\n",
      "-4.0151280496277964e-08\n",
      "Loss at epoch 46 is: 0.49500834730496174\n",
      "3.3864519977854613e-07\n",
      "3.3565959430669087e-07\n",
      "Loss at epoch 47 is: 0.4952628970782213\n",
      "-3.3959411642131034e-08\n",
      "-3.735268243060344e-09\n",
      "Loss at epoch 48 is: 0.49500961436391955\n",
      "2.689681163978382e-07\n",
      "2.6737633551295537e-07\n",
      "Loss at epoch 49 is: 0.4951107640877444\n",
      "1.9602177840296126e-08\n",
      "3.621834274041487e-09\n"
     ]
    }
   ],
   "source": [
    "%load_ext autoreload\n",
    "%autoreload 2\n",
    "\n",
    "checker = cls.GradientChecker()\n",
    "\n",
    "for epoch in range(epochs):\n",
    "\n",
    "    part_length = int(len(x_train) / batch_size)\n",
    "\n",
    "    if part_length * batch_size < len(x_train):\n",
    "        part_length += 1\n",
    "\n",
    "    batch_loss = 0\n",
    "    result_final=0\n",
    "    target_final=0\n",
    "\n",
    "    for i in range(part_length):\n",
    "\n",
    "        x_current = X[i * batch_size:(i + 1) * batch_size]\n",
    "        y_current = Y[i * batch_size:(i + 1) * batch_size]\n",
    "\n",
    "        memory = [np.zeros((batch_size, layer1_neurons))]\n",
    "\n",
    "        forward_rnn(memory_duration, x_current, y_current)\n",
    "        backward_rnn(memory_duration, x_current, y_current)\n",
    "\n",
    "        result, target = checker.check_custom(loss=loss_rnn, forward=forward_rnn, backward=backward_rnn, X=x_current, Y=y_current, memory_duration=memory_duration, print_out=False)\n",
    "\n",
    "        result_final+=result\n",
    "        target_final+=target\n",
    "\n",
    "\n",
    "        optimizerRNN.pre_update_params()\n",
    "        simple_optimizer.pre_update_params()\n",
    "        optimizerRNN.update_params(layer1_rnn)\n",
    "        simple_optimizer.update_params(layer3_rnn)\n",
    "\n",
    "        batch_loss += np.average(loss_rnn.outputs)\n",
    "\n",
    "    batch_loss /= part_length\n",
    "    result_final/= part_length\n",
    "    target_final/=part_length\n",
    "\n",
    "\n",
    "    print(\"Loss at epoch {} is: {}\".format(epoch, batch_loss))\n",
    "    print(result_final)\n",
    "    print(target_final)\n",
    "\n"
   ],
   "metadata": {
    "collapsed": false
   }
  },
  {
   "cell_type": "code",
   "execution_count": 11,
   "outputs": [
    {
     "name": "stdout",
     "output_type": "stream",
     "text": [
      "The autoreload extension is already loaded. To reload it, use:\n",
      "  %reload_ext autoreload\n"
     ]
    }
   ],
   "source": [
    "%load_ext autoreload\n",
    "%autoreload 2\n",
    "\n",
    "from  NNImplementation import BasicClasses as cls\n",
    "from  NNImplementation import RNNClasses as rnn\n",
    "\n",
    "epochs = 20\n",
    "batch_size = 16\n",
    "input_clases = x_train.shape[2]\n",
    "memory_duration = x_train.shape[1]\n",
    "layer1_neurons = 64\n",
    "layer2_neurons = 32\n",
    "\n",
    "optimizerRNN = rnn.OptimizerAdamLstm(learning_rate=0.001)\n",
    "simple_optimizer = cls.OptimizerAdam(learning_rate=0.001)\n",
    "\n",
    "layer1_lstm = rnn.LstmLayer(input_clases, layer1_neurons, memory_duration=memory_duration)\n",
    "activation1_lstm = cls.ActivationReLU()\n",
    "layer2_lstm = cls.Layer(layer1_neurons, layer2_neurons)\n",
    "activation2_lstm = cls.ActivationReLU()\n",
    "layer3_lstm = cls.Layer(layer2_neurons, 1)\n",
    "activation3_lstm = cls.ActivationSigmoid()\n",
    "loss_lstm = cls.LossMeanSquaredError()\n",
    "\n",
    "def reshape_inputs(x_current):\n",
    "\n",
    "    x_current = np.array([[x_current[i,j]   for i in range(len(x_current))] for j in range(len(x_current[0]))])\n",
    "\n",
    "    return x_current\n",
    "\n",
    "def forward_lstm(memory_duration, X_current, Y_current, add_epsilon=False, epsilon=0):\n",
    "\n",
    "    X_current = reshape_inputs(X_current)\n",
    "    layer1_lstm.forward_through_time(X_current, add_epsilon=add_epsilon, epsilon=epsilon)\n",
    "    activation1_lstm.forward(layer1_lstm.outputs)\n",
    "    layer2_lstm.forward(activation1_lstm.outputs)\n",
    "    activation2_lstm.forward(layer2_lstm.outputs)\n",
    "    layer3_lstm.forward(activation2_lstm.outputs)\n",
    "    activation3_lstm.forward(layer3_lstm.outputs)\n",
    "    loss_lstm.forward(activation3_lstm.outputs, Y_current[memory_duration-1])\n",
    "\n",
    "    return activation3_lstm.outputs\n",
    "\n",
    "def backward_lstm(memory_duration, X_current, Y_current):\n",
    "\n",
    "    X_current = reshape_inputs(X_current)\n",
    "    loss_lstm.backward(activation3_lstm.outputs, Y_current[memory_duration - 1])\n",
    "    activation3_lstm.backward(loss_lstm.dinputs)\n",
    "    layer3_lstm.backward(activation3_lstm.dinputs)\n",
    "    activation2_lstm.backward(layer3_lstm.dinputs)\n",
    "    layer2_lstm.backward(activation2_lstm.dinputs)\n",
    "    activation1_lstm.backward(layer2_lstm.dinputs)\n",
    "    layer1_lstm.backward_through_time(activation1_lstm.dinputs, X_current)\n",
    "\n",
    "    return layer1_lstm.deposit"
   ],
   "metadata": {
    "collapsed": false
   }
  },
  {
   "cell_type": "code",
   "execution_count": 12,
   "outputs": [
    {
     "name": "stdout",
     "output_type": "stream",
     "text": [
      "The autoreload extension is already loaded. To reload it, use:\n",
      "  %reload_ext autoreload\n",
      "Loss at epoch 0 is: 1.3276277288468252\n",
      "Loss at epoch 1 is: 1.2916708613217145\n",
      "Loss at epoch 2 is: 1.18879239179308\n",
      "Loss at epoch 3 is: 1.101581900461118\n",
      "Loss at epoch 4 is: 1.0351764719531202\n",
      "Loss at epoch 5 is: 0.9805815918158164\n",
      "Loss at epoch 6 is: 0.9343220628945078\n",
      "Loss at epoch 7 is: 0.8945416138171572\n",
      "Loss at epoch 8 is: 0.8600325706883702\n",
      "Loss at epoch 9 is: 0.8299114256732721\n",
      "Loss at epoch 10 is: 0.8034864929220926\n",
      "Loss at epoch 11 is: 0.7802035589929393\n",
      "Loss at epoch 12 is: 0.7595893588272249\n",
      "Loss at epoch 13 is: 0.7412519559977645\n",
      "Loss at epoch 14 is: 0.7248681604042847\n",
      "Loss at epoch 15 is: 0.7101751476877258\n",
      "Loss at epoch 16 is: 0.6969426611148895\n",
      "Loss at epoch 17 is: 0.6849668906035915\n",
      "Loss at epoch 18 is: 0.6741114193442077\n",
      "Loss at epoch 19 is: 0.6642061887418763\n"
     ]
    }
   ],
   "source": [
    "%load_ext autoreload\n",
    "%autoreload 2\n",
    "\n",
    "#checker = cls.GradientChecker()\n",
    "\n",
    "for epoch in range(epochs):\n",
    "\n",
    "    part_length = int(len(x_train) / batch_size)\n",
    "\n",
    "    if part_length * batch_size < len(x_train):\n",
    "        part_length += 1\n",
    "\n",
    "    batch_loss = 0\n",
    "\n",
    "    for i in range(part_length):\n",
    "\n",
    "        x_current = X[i * batch_size:(i + 1) * batch_size]\n",
    "        y_current = Y[i * batch_size:(i + 1) * batch_size]\n",
    "\n",
    "        memory = [np.zeros((batch_size, layer1_neurons))]\n",
    "\n",
    "        forward_lstm(memory_duration, x_current, y_current)\n",
    "        backward_lstm(memory_duration, x_current, y_current)\n",
    "\n",
    "        optimizerRNN.pre_update_params()\n",
    "        simple_optimizer.pre_update_params()\n",
    "        optimizerRNN.update_params(layer1_lstm)\n",
    "        simple_optimizer.update_params(layer2_lstm)\n",
    "\n",
    "        batch_loss += np.average(loss_lstm.outputs)\n",
    "\n",
    "    batch_loss /= part_length\n",
    "\n",
    "    print(\"Loss at epoch {} is: {}\".format(epoch, batch_loss))\n",
    "\n"
   ],
   "metadata": {
    "collapsed": false
   }
  },
  {
   "cell_type": "code",
   "execution_count": 13,
   "outputs": [
    {
     "name": "stdout",
     "output_type": "stream",
     "text": [
      "127\n",
      "127/127 [==============================] - 1s 4ms/step\n",
      "127/127 [==============================] - 0s 2ms/step\n",
      "(127, 1)\n",
      "(127, 1)\n"
     ]
    },
    {
     "name": "stderr",
     "output_type": "stream",
     "text": [
      "<ipython-input-13-cdf6fcf01195>:54: SettingWithCopyWarning: \n",
      "A value is trying to be set on a copy of a slice from a DataFrame.\n",
      "Try using .loc[row_indexer,col_indexer] = value instead\n",
      "\n",
      "See the caveats in the documentation: https://pandas.pydata.org/pandas-docs/stable/user_guide/indexing.html#returning-a-view-versus-a-copy\n",
      "  original['Date']=pd.to_datetime(original['Date'])\n"
     ]
    },
    {
     "ename": "ValueError",
     "evalue": "`legend` must be 'auto', 'brief', 'full', or a boolean.",
     "output_type": "error",
     "traceback": [
      "\u001B[1;31m---------------------------------------------------------------------------\u001B[0m",
      "\u001B[1;31mValueError\u001B[0m                                Traceback (most recent call last)",
      "\u001B[1;32m<ipython-input-13-cdf6fcf01195>\u001B[0m in \u001B[0;36m<module>\u001B[1;34m\u001B[0m\n\u001B[0;32m     56\u001B[0m \u001B[0msns\u001B[0m\u001B[1;33m.\u001B[0m\u001B[0mlineplot\u001B[0m\u001B[1;33m(\u001B[0m\u001B[0mx\u001B[0m\u001B[1;33m=\u001B[0m\u001B[0moriginal\u001B[0m\u001B[1;33m[\u001B[0m\u001B[1;34m'Date'\u001B[0m\u001B[1;33m]\u001B[0m\u001B[1;33m[\u001B[0m\u001B[1;33m-\u001B[0m\u001B[0mn_days_for_prediction\u001B[0m\u001B[1;33m:\u001B[0m\u001B[1;33m-\u001B[0m\u001B[1;36m1\u001B[0m\u001B[1;33m]\u001B[0m\u001B[1;33m,\u001B[0m \u001B[0my\u001B[0m\u001B[1;33m=\u001B[0m\u001B[0moriginal\u001B[0m\u001B[1;33m[\u001B[0m\u001B[1;34m'Close'\u001B[0m\u001B[1;33m]\u001B[0m\u001B[1;33m[\u001B[0m\u001B[1;33m-\u001B[0m\u001B[0mn_days_for_prediction\u001B[0m\u001B[1;33m:\u001B[0m\u001B[1;33m-\u001B[0m\u001B[1;36m1\u001B[0m\u001B[1;33m]\u001B[0m\u001B[1;33m,\u001B[0m \u001B[0mcolor\u001B[0m\u001B[1;33m=\u001B[0m\u001B[1;34m\"red\"\u001B[0m\u001B[1;33m)\u001B[0m\u001B[1;33m\u001B[0m\u001B[1;33m\u001B[0m\u001B[0m\n\u001B[0;32m     57\u001B[0m \u001B[1;33m\u001B[0m\u001B[0m\n\u001B[1;32m---> 58\u001B[1;33m \u001B[0msns\u001B[0m\u001B[1;33m.\u001B[0m\u001B[0mlineplot\u001B[0m\u001B[1;33m(\u001B[0m\u001B[0mx\u001B[0m\u001B[1;33m=\u001B[0m\u001B[0mdf_forecast_rnn_nnfs\u001B[0m\u001B[1;33m[\u001B[0m\u001B[1;34m'Date'\u001B[0m\u001B[1;33m]\u001B[0m\u001B[1;33m,\u001B[0m \u001B[0my\u001B[0m\u001B[1;33m=\u001B[0m\u001B[0mdf_forecast_rnn_nnfs\u001B[0m\u001B[1;33m[\u001B[0m\u001B[1;34m'Close'\u001B[0m\u001B[1;33m]\u001B[0m\u001B[1;33m,\u001B[0m \u001B[0mcolor\u001B[0m\u001B[1;33m=\u001B[0m\u001B[1;34m\"purple\"\u001B[0m\u001B[1;33m,\u001B[0m \u001B[0mlegend\u001B[0m\u001B[1;33m=\u001B[0m\u001B[1;34m\"ceva\"\u001B[0m\u001B[1;33m)\u001B[0m\u001B[1;33m\u001B[0m\u001B[1;33m\u001B[0m\u001B[0m\n\u001B[0m\u001B[0;32m     59\u001B[0m \u001B[1;31m#sns.lineplot(x=df_forecast_lstm['Date'], y=df_forecast_lstm['Close'], color=\"blue\")\u001B[0m\u001B[1;33m\u001B[0m\u001B[1;33m\u001B[0m\u001B[1;33m\u001B[0m\u001B[0m\n\u001B[0;32m     60\u001B[0m \u001B[0msns\u001B[0m\u001B[1;33m.\u001B[0m\u001B[0mlineplot\u001B[0m\u001B[1;33m(\u001B[0m\u001B[0mx\u001B[0m\u001B[1;33m=\u001B[0m\u001B[0mdf_forecast_rnn\u001B[0m\u001B[1;33m[\u001B[0m\u001B[1;34m'Date'\u001B[0m\u001B[1;33m]\u001B[0m\u001B[1;33m,\u001B[0m \u001B[0my\u001B[0m\u001B[1;33m=\u001B[0m\u001B[0mdf_forecast_rnn\u001B[0m\u001B[1;33m[\u001B[0m\u001B[1;34m'Close'\u001B[0m\u001B[1;33m]\u001B[0m\u001B[1;33m,\u001B[0m \u001B[0mcolor\u001B[0m\u001B[1;33m=\u001B[0m\u001B[1;34m\"green\"\u001B[0m\u001B[1;33m)\u001B[0m\u001B[1;33m\u001B[0m\u001B[1;33m\u001B[0m\u001B[0m\n",
      "\u001B[1;32mc:\\users\\craci\\pycharmprojects\\global_interpreter\\venv\\lib\\site-packages\\seaborn\\relational.py\u001B[0m in \u001B[0;36mlineplot\u001B[1;34m(data, x, y, hue, size, style, units, palette, hue_order, hue_norm, sizes, size_order, size_norm, dashes, markers, style_order, estimator, errorbar, n_boot, seed, orient, sort, err_style, err_kws, legend, ci, ax, **kwargs)\u001B[0m\n\u001B[0;32m    637\u001B[0m     \u001B[0mkwargs\u001B[0m\u001B[1;33m[\u001B[0m\u001B[1;34m\"color\"\u001B[0m\u001B[1;33m]\u001B[0m \u001B[1;33m=\u001B[0m \u001B[0m_default_color\u001B[0m\u001B[1;33m(\u001B[0m\u001B[0max\u001B[0m\u001B[1;33m.\u001B[0m\u001B[0mplot\u001B[0m\u001B[1;33m,\u001B[0m \u001B[0mhue\u001B[0m\u001B[1;33m,\u001B[0m \u001B[0mcolor\u001B[0m\u001B[1;33m,\u001B[0m \u001B[0mkwargs\u001B[0m\u001B[1;33m)\u001B[0m\u001B[1;33m\u001B[0m\u001B[1;33m\u001B[0m\u001B[0m\n\u001B[0;32m    638\u001B[0m \u001B[1;33m\u001B[0m\u001B[0m\n\u001B[1;32m--> 639\u001B[1;33m     \u001B[0mp\u001B[0m\u001B[1;33m.\u001B[0m\u001B[0mplot\u001B[0m\u001B[1;33m(\u001B[0m\u001B[0max\u001B[0m\u001B[1;33m,\u001B[0m \u001B[0mkwargs\u001B[0m\u001B[1;33m)\u001B[0m\u001B[1;33m\u001B[0m\u001B[1;33m\u001B[0m\u001B[0m\n\u001B[0m\u001B[0;32m    640\u001B[0m     \u001B[1;32mreturn\u001B[0m \u001B[0max\u001B[0m\u001B[1;33m\u001B[0m\u001B[1;33m\u001B[0m\u001B[0m\n\u001B[0;32m    641\u001B[0m \u001B[1;33m\u001B[0m\u001B[0m\n",
      "\u001B[1;32mc:\\users\\craci\\pycharmprojects\\global_interpreter\\venv\\lib\\site-packages\\seaborn\\relational.py\u001B[0m in \u001B[0;36mplot\u001B[1;34m(self, ax, kws)\u001B[0m\n\u001B[0;32m    509\u001B[0m         \u001B[0mself\u001B[0m\u001B[1;33m.\u001B[0m\u001B[0m_add_axis_labels\u001B[0m\u001B[1;33m(\u001B[0m\u001B[0max\u001B[0m\u001B[1;33m)\u001B[0m\u001B[1;33m\u001B[0m\u001B[1;33m\u001B[0m\u001B[0m\n\u001B[0;32m    510\u001B[0m         \u001B[1;32mif\u001B[0m \u001B[0mself\u001B[0m\u001B[1;33m.\u001B[0m\u001B[0mlegend\u001B[0m\u001B[1;33m:\u001B[0m\u001B[1;33m\u001B[0m\u001B[1;33m\u001B[0m\u001B[0m\n\u001B[1;32m--> 511\u001B[1;33m             \u001B[0mself\u001B[0m\u001B[1;33m.\u001B[0m\u001B[0madd_legend_data\u001B[0m\u001B[1;33m(\u001B[0m\u001B[0max\u001B[0m\u001B[1;33m)\u001B[0m\u001B[1;33m\u001B[0m\u001B[1;33m\u001B[0m\u001B[0m\n\u001B[0m\u001B[0;32m    512\u001B[0m             \u001B[0mhandles\u001B[0m\u001B[1;33m,\u001B[0m \u001B[0m_\u001B[0m \u001B[1;33m=\u001B[0m \u001B[0max\u001B[0m\u001B[1;33m.\u001B[0m\u001B[0mget_legend_handles_labels\u001B[0m\u001B[1;33m(\u001B[0m\u001B[1;33m)\u001B[0m\u001B[1;33m\u001B[0m\u001B[1;33m\u001B[0m\u001B[0m\n\u001B[0;32m    513\u001B[0m             \u001B[1;32mif\u001B[0m \u001B[0mhandles\u001B[0m\u001B[1;33m:\u001B[0m\u001B[1;33m\u001B[0m\u001B[1;33m\u001B[0m\u001B[0m\n",
      "\u001B[1;32mc:\\users\\craci\\pycharmprojects\\global_interpreter\\venv\\lib\\site-packages\\seaborn\\relational.py\u001B[0m in \u001B[0;36madd_legend_data\u001B[1;34m(self, ax)\u001B[0m\n\u001B[0;32m    196\u001B[0m         \u001B[1;32mif\u001B[0m \u001B[0misinstance\u001B[0m\u001B[1;33m(\u001B[0m\u001B[0mverbosity\u001B[0m\u001B[1;33m,\u001B[0m \u001B[0mstr\u001B[0m\u001B[1;33m)\u001B[0m \u001B[1;32mand\u001B[0m \u001B[0mverbosity\u001B[0m \u001B[1;32mnot\u001B[0m \u001B[1;32min\u001B[0m \u001B[1;33m[\u001B[0m\u001B[1;34m\"auto\"\u001B[0m\u001B[1;33m,\u001B[0m \u001B[1;34m\"brief\"\u001B[0m\u001B[1;33m,\u001B[0m \u001B[1;34m\"full\"\u001B[0m\u001B[1;33m]\u001B[0m\u001B[1;33m:\u001B[0m\u001B[1;33m\u001B[0m\u001B[1;33m\u001B[0m\u001B[0m\n\u001B[0;32m    197\u001B[0m             \u001B[0merr\u001B[0m \u001B[1;33m=\u001B[0m \u001B[1;34m\"`legend` must be 'auto', 'brief', 'full', or a boolean.\"\u001B[0m\u001B[1;33m\u001B[0m\u001B[1;33m\u001B[0m\u001B[0m\n\u001B[1;32m--> 198\u001B[1;33m             \u001B[1;32mraise\u001B[0m \u001B[0mValueError\u001B[0m\u001B[1;33m(\u001B[0m\u001B[0merr\u001B[0m\u001B[1;33m)\u001B[0m\u001B[1;33m\u001B[0m\u001B[1;33m\u001B[0m\u001B[0m\n\u001B[0m\u001B[0;32m    199\u001B[0m         \u001B[1;32melif\u001B[0m \u001B[0mverbosity\u001B[0m \u001B[1;32mis\u001B[0m \u001B[1;32mTrue\u001B[0m\u001B[1;33m:\u001B[0m\u001B[1;33m\u001B[0m\u001B[1;33m\u001B[0m\u001B[0m\n\u001B[0;32m    200\u001B[0m             \u001B[0mverbosity\u001B[0m \u001B[1;33m=\u001B[0m \u001B[1;34m\"auto\"\u001B[0m\u001B[1;33m\u001B[0m\u001B[1;33m\u001B[0m\u001B[0m\n",
      "\u001B[1;31mValueError\u001B[0m: `legend` must be 'auto', 'brief', 'full', or a boolean."
     ]
    },
    {
     "data": {
      "text/plain": "<Figure size 432x288 with 1 Axes>",
      "image/png": "[encoded data removed]"
     },
     "metadata": {},
     "output_type": "display_data"
    }
   ],
   "source": [
    "#Here we will compare the performances of our diffrent models\n",
    "#Libraries that will help us extract only business days in the US.\n",
    "#Otherwise our dates would be wrong when we look back (or forward).\n",
    "from pandas.tseries.holiday import USFederalHolidayCalendar\n",
    "from pandas.tseries.offsets import CustomBusinessDay\n",
    "us_bd = CustomBusinessDay(calendar=USFederalHolidayCalendar())\n",
    "#Remember that we can only predict one day in future as our model needs 5 variables\n",
    "#as inputs for prediction. We only have all 5 variables until the last day in our dataset.\n",
    "n_past = len(x_test)\n",
    "n_days_for_prediction = len(x_test) #let us predict past 15 days\n",
    "\n",
    "predict_period_dates = pd.date_range(list(train_dates)[-n_past], periods=n_days_for_prediction, freq=us_bd).tolist()\n",
    "print(len(predict_period_dates))\n",
    "\n",
    "#Make prediction\n",
    "prediction_lstm_keras = model_keras_lstm.predict(x_test, batch_size=1) #shape = (n, 1) where n is the n_days_for_prediction\n",
    "prediction_rnn_keras = model_keras_rnn.predict(x_test, batch_size=1) #shape = (n, 1) where n is the n_days_for_prediction\n",
    "prediction_rnn_nnfs = forward_rnn(memory_duration, x_test, y_test)\n",
    "prediction_lstm_nnfs = forward_lstm(memory_duration, x_test, y_test)\n",
    "\n",
    "\n",
    "print(np.shape(prediction_lstm_nnfs))\n",
    "print(np.shape(prediction_lstm_keras))\n",
    "\n",
    "#Perform inverse transformation to rescale back to original range\n",
    "#Since we used 5 variables for transform, the inverse expects same dimensions\n",
    "#Therefore, let us copy our values 5 times and discard them after inverse transform\n",
    "prediction_copies_lstm = np.repeat(prediction_lstm_keras, df_for_training.shape[1], axis=-1)\n",
    "prediction_copies_rnn = np.repeat(prediction_rnn_keras, df_for_training.shape[1], axis=-1)\n",
    "prediction_copies_rnn_nnfs = np.repeat(prediction_rnn_nnfs, df_for_training.shape[1], axis=-1)\n",
    "prediction_copies_lstm_nnfs = np.repeat(prediction_lstm_nnfs, df_for_training.shape[1], axis=-1)\n",
    "\n",
    "y_pred_future_lstm_nnfs = scaler.inverse_transform(prediction_copies_lstm_nnfs)[:,0]\n",
    "y_pred_future_lstm = scaler.inverse_transform(prediction_copies_lstm)[:,0]\n",
    "y_pred_future_rnn_nnfs = scaler.inverse_transform(prediction_copies_rnn_nnfs)[:,0]\n",
    "y_pred_future_rnn = scaler.inverse_transform(prediction_copies_rnn)[:,0]\n",
    "\n",
    "# Convert timestamp to date\n",
    "forecast_dates = []\n",
    "for time_i in predict_period_dates:\n",
    "    forecast_dates.append(time_i.date())\n",
    "\n",
    "df_forecast_rnn_nnfs = pd.DataFrame({'Date':np.array(forecast_dates), 'Close':y_pred_future_rnn_nnfs})\n",
    "df_forecast_lstm_nnfs = pd.DataFrame({'Date':np.array(forecast_dates), 'Close':y_pred_future_lstm_nnfs})\n",
    "df_forecast_lstm = pd.DataFrame({'Date':np.array(forecast_dates), 'Close':y_pred_future_lstm})\n",
    "df_forecast_rnn = pd.DataFrame({'Date':np.array(forecast_dates), 'Close':y_pred_future_rnn})\n",
    "\n",
    "df_forecast_rnn_nnfs['Date']=pd.to_datetime(df_forecast_rnn_nnfs['Date'])\n",
    "df_forecast_lstm_nnfs['Date']=pd.to_datetime(df_forecast_lstm_nnfs['Date'])\n",
    "df_forecast_lstm['Date']=pd.to_datetime(df_forecast_lstm['Date'])\n",
    "df_forecast_rnn['Date']=pd.to_datetime(df_forecast_rnn['Date'])\n",
    "\n",
    "original = df[['Date', 'Close']]\n",
    "original['Date']=pd.to_datetime(original['Date'])\n",
    "\n",
    "sns.lineplot(x=original['Date'][-n_days_for_prediction:-1], y=original['Close'][-n_days_for_prediction:-1], color=\"red\")\n",
    "\n",
    "sns.lineplot(x=df_forecast_rnn_nnfs['Date'], y=df_forecast_rnn_nnfs['Close'], color=\"purple\")\n",
    "#sns.lineplot(x=df_forecast_lstm['Date'], y=df_forecast_lstm['Close'], color=\"blue\")\n",
    "sns.lineplot(x=df_forecast_rnn['Date'], y=df_forecast_rnn['Close'], color=\"green\")"
   ],
   "metadata": {
    "collapsed": false
   }
  },
  {
   "cell_type": "code",
   "execution_count": null,
   "outputs": [],
   "source": [
    "sns.lineplot(x=original['Date'][-n_days_for_prediction:-1], y=original['Close'][-n_days_for_prediction:-1], color=\"red\")\n",
    "\n",
    "sns.lineplot(x=df_forecast_lstm_nnfs['Date'], y=df_forecast_lstm_nnfs['Close'], color=\"yellow\")\n",
    "sns.lineplot(x=df_forecast_lstm['Date'], y=df_forecast_lstm['Close'], color=\"blue\")"
   ],
   "metadata": {
    "collapsed": false
   }
  },
  {
   "cell_type": "code",
   "execution_count": null,
   "outputs": [],
   "source": [],
   "metadata": {
    "collapsed": false
   }
  }
 ],
 "metadata": {
  "kernelspec": {
   "display_name": "Python 3",
   "language": "python",
   "name": "python3"
  },
  "language_info": {
   "codemirror_mode": {
    "name": "ipython",
    "version": 2
   },
   "file_extension": ".py",
   "mimetype": "text/x-python",
   "name": "python",
   "nbconvert_exporter": "python",
   "pygments_lexer": "ipython2",
   "version": "2.7.6"
  }
 },
 "nbformat": 4,
 "nbformat_minor": 0
}
