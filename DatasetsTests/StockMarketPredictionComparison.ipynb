{
 "cells": [
  {
   "cell_type": "code",
   "execution_count": 2,
   "metadata": {
    "collapsed": true
   },
   "outputs": [
    {
     "name": "stdout",
     "output_type": "stream",
     "text": [
      "         Date       Open       High        Low      Close  Adj Close    Volume\n",
      "0  2017-10-17  49.514500  49.821999  49.429501  49.609001  49.609001  25804000\n",
      "1  2017-10-18  49.588501  49.835999  49.348751  49.640499  49.640499  21152000\n",
      "2  2017-10-19  49.299999  49.444000  48.919498  49.222500  49.222500  26272000\n",
      "3  2017-10-20  49.472000  49.549999  49.229000  49.410000  49.410000  23664000\n",
      "4  2017-10-23  49.476002  49.476002  48.306000  48.422501  48.422501  29568000\n"
     ]
    }
   ],
   "source": [
    "'''\n",
    "dataset: https://finance.yahoo.com/quote/GOOG/history?p=GOOG\n",
    "The code for the data format was adapted from this github repository: https://github.com/bnsreenu/python_for_microscopists\n",
    "'''\n",
    "\n",
    "import numpy as np\n",
    "from keras.models import Sequential\n",
    "from keras.layers import LSTM\n",
    "from keras.layers import Dense, Dropout, SimpleRNN\n",
    "import pandas as pd\n",
    "from matplotlib import pyplot as plt\n",
    "from sklearn.preprocessing import StandardScaler\n",
    "import seaborn as sns\n",
    "\n",
    "\n",
    "#Read the csv file\n",
    "df = pd.read_csv('C:/Users/craci/DataSpellProjects/Neuronal_Networks_in_Python/StockMarketDataset/GOOG.csv')\n",
    "\n",
    "\n",
    "print(df.head()) #7 columns, including the Date."
   ]
  },
  {
   "cell_type": "code",
   "execution_count": 3,
   "outputs": [
    {
     "name": "stdout",
     "output_type": "stream",
     "text": [
      "1243   2022-09-26\n",
      "1244   2022-09-27\n",
      "1245   2022-09-28\n",
      "1246   2022-09-29\n",
      "1247   2022-09-30\n",
      "1248   2022-10-03\n",
      "1249   2022-10-04\n",
      "1250   2022-10-05\n",
      "1251   2022-10-06\n",
      "1252   2022-10-07\n",
      "1253   2022-10-10\n",
      "1254   2022-10-11\n",
      "1255   2022-10-12\n",
      "1256   2022-10-13\n",
      "1257   2022-10-14\n",
      "Name: Date, dtype: datetime64[ns]\n"
     ]
    }
   ],
   "source": [
    "#Separate dates for future plotting\n",
    "train_dates = pd.to_datetime(df['Date'])\n",
    "print(train_dates.tail(15)) #Check last few dates."
   ],
   "metadata": {
    "collapsed": false
   }
  },
  {
   "cell_type": "code",
   "execution_count": 4,
   "outputs": [
    {
     "name": "stdout",
     "output_type": "stream",
     "text": [
      "['Open', 'High', 'Low', 'Close', 'Adj Close']\n"
     ]
    },
    {
     "data": {
      "text/plain": "<matplotlib.axes._subplots.AxesSubplot at 0x2154340f2e0>"
     },
     "execution_count": 4,
     "metadata": {},
     "output_type": "execute_result"
    },
    {
     "data": {
      "text/plain": "<Figure size 432x288 with 1 Axes>",
      "image/png": "[encoded data removed]"
     },
     "metadata": {},
     "output_type": "display_data"
    }
   ],
   "source": [
    "#Variables for training\n",
    "cols = list(df)[1:6]\n",
    "#Date and volume columns are not used in training.\n",
    "print(cols) #['Open', 'High', 'Low', 'Close', 'Adj Close']\n",
    "\n",
    "#New dataframe with only training data - 5 columns\n",
    "df_for_training = df[cols].astype(float)\n",
    "\n",
    "df_for_plot=df_for_training.tail(5000)\n",
    "df_for_plot.plot.line()"
   ],
   "metadata": {
    "collapsed": false
   }
  },
  {
   "cell_type": "code",
   "execution_count": 5,
   "outputs": [
    {
     "name": "stdout",
     "output_type": "stream",
     "text": [
      "(1258, 5)\n",
      "-1.1298378553142838\n",
      "2.120081597526207\n",
      "X shape == (1256, 2, 5).\n",
      "Y shape == (1256, 1).\n",
      "1256\n",
      "1004\n",
      "1129\n",
      "(1004, 2, 5)\n",
      "(125, 2, 5)\n",
      "(127, 2, 5)\n"
     ]
    }
   ],
   "source": [
    "from sklearn.model_selection import train_test_split\n",
    "\n",
    "class Scaler_1_1():\n",
    "\n",
    "    def __init__(self, x):\n",
    "\n",
    "        self.min_x = x.min()\n",
    "        x_s= x  - self.min_x\n",
    "        self.max_x = x_s.max()\n",
    "\n",
    "    def scale_forward(self, x):\n",
    "\n",
    "        x-=self.min_x\n",
    "        x_final = x/ x.max() * 2 - 1\n",
    "\n",
    "        return x_final\n",
    "\n",
    "    def scale_back(self, x):\n",
    "\n",
    "        x_final = (x +1)/2 * self.max_x\n",
    "\n",
    "\n",
    "# normalize the dataset\n",
    "scaler = StandardScaler()\n",
    "scaler = scaler.fit(df_for_training)\n",
    "df_for_training_scaled = scaler.transform(df_for_training)\n",
    "\n",
    "#second_scalere = Scaler_1_1(df_for_training_scaled)\n",
    "#df_for_training_scaled = second_scalere.scale_forward(df_for_training_scaled)\n",
    "\n",
    "\n",
    "print(df_for_training_scaled.shape)\n",
    "print(df_for_training_scaled.min())\n",
    "print(df_for_training_scaled.max())\n",
    "\n",
    "#In this example, the n_features is 5. We will make timesteps = 14 (past days data used for training).\n",
    "\n",
    "#Empty lists to be populated using formatted training data\n",
    "X = []\n",
    "Y = []\n",
    "\n",
    "n_future = 1   # Number of days we want to look into the future based on the past days.\n",
    "n_past = 2  # Number of past days we want to use to predict the future.\n",
    "\n",
    "#Reformat input data into a shape: (n_samples x timesteps x n_features)\n",
    "#In my example, my df_for_training_scaled has a shape (1258, 5)\n",
    "#1258 refers to the number of data points and 5 refers to the columns (multi-variables)\n",
    "#This model is going to predict the closing price for the next trading day\n",
    "for i in range(n_past, len(df_for_training_scaled) - n_future +1):\n",
    "    X.append(df_for_training_scaled[i - n_past:i, 0:df_for_training.shape[1]])\n",
    "    Y.append(df_for_training_scaled[i + n_future - 1:i + n_future, 3])\n",
    "\n",
    "X, Y = np.array(X), np.array(Y)\n",
    "\n",
    "print('X shape == {}.'.format(X.shape))\n",
    "print('Y shape == {}.'.format(Y.shape))\n",
    "\n",
    "train_split = int(len(X)/100 * 80)\n",
    "valid_split = train_split + int(len(X)/100 * 10)\n",
    "\n",
    "print(len(X))\n",
    "print(train_split)\n",
    "print(valid_split)\n",
    "\n",
    "x_train, y_train = X[0:train_split], Y[0:train_split]\n",
    "x_valid, y_valid = X[train_split:valid_split], Y[train_split:valid_split]\n",
    "x_test, y_test = X[valid_split:], Y[valid_split:]\n",
    "\n",
    "print(np.shape(x_train))\n",
    "print(np.shape(x_valid))\n",
    "print(np.shape(x_test))\n"
   ],
   "metadata": {
    "collapsed": false
   }
  },
  {
   "cell_type": "code",
   "execution_count": 6,
   "outputs": [
    {
     "name": "stdout",
     "output_type": "stream",
     "text": [
      "WARNING:tensorflow:Layer lstm will not use cuDNN kernels since it doesn't meet the criteria. It will use a generic GPU kernel as fallback when running on GPU.\n",
      "Model: \"sequential\"\n",
      "_________________________________________________________________\n",
      " Layer (type)                Output Shape              Param #   \n",
      "=================================================================\n",
      " lstm (LSTM)                 (None, 64)                17920     \n",
      "                                                                 \n",
      " dropout (Dropout)           (None, 64)                0         \n",
      "                                                                 \n",
      " dense (Dense)               (None, 1)                 65        \n",
      "                                                                 \n",
      "=================================================================\n",
      "Total params: 17,985\n",
      "Trainable params: 17,985\n",
      "Non-trainable params: 0\n",
      "_________________________________________________________________\n"
     ]
    }
   ],
   "source": [
    "\n",
    "model_keras_lstm = Sequential()\n",
    "model_keras_lstm.add(LSTM(64, activation='relu', input_shape=(x_train.shape[1], x_train.shape[2]), return_sequences=False))\n",
    "#model_keras_lstm.add(LSTM(32, activation='relu', return_sequences=False))\n",
    "model_keras_lstm.add(Dropout(0.2))\n",
    "model_keras_lstm.add(Dense(Y.shape[1]))\n",
    "\n",
    "model_keras_lstm.compile(optimizer='adam', loss='mse')\n",
    "model_keras_lstm.summary()"
   ],
   "metadata": {
    "collapsed": false
   }
  },
  {
   "cell_type": "code",
   "execution_count": 7,
   "outputs": [
    {
     "name": "stdout",
     "output_type": "stream",
     "text": [
      "Model: \"sequential_1\"\n",
      "_________________________________________________________________\n",
      " Layer (type)                Output Shape              Param #   \n",
      "=================================================================\n",
      " simple_rnn (SimpleRNN)      (None, 64)                4480      \n",
      "                                                                 \n",
      " dropout_1 (Dropout)         (None, 64)                0         \n",
      "                                                                 \n",
      " dense_1 (Dense)             (None, 1)                 65        \n",
      "                                                                 \n",
      "=================================================================\n",
      "Total params: 4,545\n",
      "Trainable params: 4,545\n",
      "Non-trainable params: 0\n",
      "_________________________________________________________________\n"
     ]
    }
   ],
   "source": [
    "\n",
    "model_keras_rnn = Sequential()\n",
    "model_keras_rnn.add(SimpleRNN(64, activation='relu', input_shape=(x_train.shape[1], x_train.shape[2]), return_sequences=False))\n",
    "#model_keras_rnn.add(SimpleRNN(32, activation='relu', input_shape=(x_train.shape[1], x_train.shape[2]), return_sequences=False))\n",
    "model_keras_rnn.add(Dropout(0.2))\n",
    "model_keras_rnn.add(Dense(Y.shape[1]))\n",
    "\n",
    "model_keras_rnn.compile(optimizer='adam', loss='mse')\n",
    "model_keras_rnn.summary()"
   ],
   "metadata": {
    "collapsed": false
   }
  },
  {
   "cell_type": "code",
   "execution_count": 8,
   "outputs": [
    {
     "name": "stdout",
     "output_type": "stream",
     "text": [
      "Epoch 1/5\n",
      "63/63 [==============================] - 4s 15ms/step - loss: 0.2640 - val_loss: 0.0196\n",
      "Epoch 2/5\n",
      "63/63 [==============================] - 1s 12ms/step - loss: 0.0171 - val_loss: 0.0398\n",
      "Epoch 3/5\n",
      "63/63 [==============================] - 1s 12ms/step - loss: 0.0179 - val_loss: 0.0198\n",
      "Epoch 4/5\n",
      "63/63 [==============================] - 1s 13ms/step - loss: 0.0174 - val_loss: 0.0200\n",
      "Epoch 5/5\n",
      "63/63 [==============================] - 1s 12ms/step - loss: 0.0137 - val_loss: 0.0144\n"
     ]
    }
   ],
   "source": [
    "\n",
    "\n",
    "# fit the model_keras_lstm\n",
    "history_lstm = model_keras_lstm.fit(x_train, y_train, epochs=5, batch_size=16, validation_data=(x_valid, y_valid), verbose=1)"
   ],
   "metadata": {
    "collapsed": false
   }
  },
  {
   "cell_type": "code",
   "execution_count": 9,
   "outputs": [
    {
     "name": "stdout",
     "output_type": "stream",
     "text": [
      "Epoch 1/5\n",
      "63/63 [==============================] - 1s 9ms/step - loss: 0.2610 - val_loss: 0.0452\n",
      "Epoch 2/5\n",
      "63/63 [==============================] - 0s 6ms/step - loss: 0.0491 - val_loss: 0.0118\n",
      "Epoch 3/5\n",
      "63/63 [==============================] - 0s 6ms/step - loss: 0.0356 - val_loss: 0.0099\n",
      "Epoch 4/5\n",
      "63/63 [==============================] - 0s 6ms/step - loss: 0.0282 - val_loss: 0.0104\n",
      "Epoch 5/5\n",
      "63/63 [==============================] - 0s 8ms/step - loss: 0.0201 - val_loss: 0.0260\n"
     ]
    }
   ],
   "source": [
    "\n",
    "# fit the model_keras_rnn\n",
    "history_rnn = model_keras_rnn.fit(x_train, y_train, epochs=5, batch_size=16, validation_data=(x_valid, y_valid), verbose=1)"
   ],
   "metadata": {
    "collapsed": false
   }
  },
  {
   "cell_type": "code",
   "execution_count": 10,
   "outputs": [],
   "source": [
    "%load_ext autoreload\n",
    "%autoreload 2\n",
    "\n",
    "from  NNImplementation import BasicClasses as cls\n",
    "from  NNImplementation import RNNClasses as rnn\n",
    "\n",
    "epochs = 50\n",
    "batch_size = 16\n",
    "input_clases = x_train.shape[2]\n",
    "memory_duration = x_train.shape[1]\n",
    "layer1_neurons = 64\n",
    "layer2_neurons = 32\n",
    "\n",
    "optimizerRNN = rnn.OptimizerAdamRNN(learning_rate=0.001)\n",
    "simple_optimizer = cls.OptimizerAdam(learning_rate=0.001)\n",
    "\n",
    "layer1_rnn = rnn.RNNLayer(input_clases, layer1_neurons, activation=cls.ActivationLinear(), memory_duration=memory_duration)\n",
    "layer3_rnn = cls.Layer(layer1_neurons, 1)\n",
    "activation3_rnn = cls.ActivationSigmoid()\n",
    "loss_rnn = cls.LossMeanSquaredError()\n",
    "\n",
    "def reshape_inputs(x_current):\n",
    "\n",
    "    x_current = np.array([[x_current[i,j]   for i in range(len(x_current))] for j in range(len(x_current[0]))])\n",
    "\n",
    "    return x_current\n",
    "\n",
    "def forward_rnn(memory_duration, X_current, Y_current, add_epsilon=False, epsilon=0):\n",
    "\n",
    "    X_current = reshape_inputs(X_current)\n",
    "    layer1_rnn.forward_through_time(X_current, add_epsilon=add_epsilon, epsilon=epsilon)\n",
    "    layer3_rnn.forward(layer1_rnn.outputs)\n",
    "    activation3_rnn.forward(layer3_rnn.outputs)\n",
    "    loss_rnn.forward(activation3_rnn.outputs, Y_current[memory_duration-1])\n",
    "\n",
    "    return activation3_rnn.outputs\n",
    "\n",
    "def backward_rnn(memory_duration, X_current, Y_current):\n",
    "\n",
    "    X_current = reshape_inputs(X_current)\n",
    "    loss_rnn.backward(activation3_rnn.outputs, Y_current[memory_duration - 1])\n",
    "    activation3_rnn.backward(loss_rnn.dinputs)\n",
    "    layer3_rnn.backward(activation3_rnn.dinputs)\n",
    "    layer1_rnn.backward_through_time(layer3_rnn.dinputs, X_current)\n",
    "\n",
    "    return layer1_rnn.deposit"
   ],
   "metadata": {
    "collapsed": false
   }
  },
  {
   "cell_type": "code",
   "execution_count": 11,
   "outputs": [
    {
     "name": "stdout",
     "output_type": "stream",
     "text": [
      "The autoreload extension is already loaded. To reload it, use:\n",
      "  %reload_ext autoreload\n",
      "Loss at epoch 0 is: 1.0945611549692682\n",
      "-0.0009961679327123182\n",
      "-0.0009961776238271442\n",
      "Loss at epoch 1 is: 0.5106400953919521\n",
      "-9.784805345072753e-05\n",
      "-9.784876070349304e-05\n",
      "Loss at epoch 2 is: 0.5014746070768856\n",
      "3.2157617469392906e-06\n",
      "3.226465655934877e-06\n",
      "Loss at epoch 3 is: 0.5002784920168803\n",
      "6.623534641517128e-06\n",
      "6.615499632119741e-06\n",
      "Loss at epoch 4 is: 0.49862668318366393\n",
      "9.131792064051797e-06\n",
      "9.137985151750552e-06\n",
      "Loss at epoch 5 is: 0.49540495126864725\n",
      "6.64161869395957e-06\n",
      "6.6588498325525535e-06\n",
      "Loss at epoch 6 is: 0.49567742087756544\n",
      "-1.2790008114316156e-06\n",
      "-1.2758191292494687e-06\n",
      "Loss at epoch 7 is: 0.49669075267118923\n",
      "8.54034639004281e-06\n",
      "8.535278074279652e-06\n",
      "Loss at epoch 8 is: 0.4960011600627868\n",
      "-1.3693219015532075e-06\n",
      "-1.3703322601892453e-06\n",
      "Loss at epoch 9 is: 0.4971515252637567\n",
      "8.336641808690488e-06\n",
      "8.341341411595398e-06\n",
      "Loss at epoch 10 is: 0.49537901493671294\n",
      "-8.029080064008353e-07\n",
      "-8.03005300672043e-07\n",
      "Loss at epoch 11 is: 0.4962044799515393\n",
      "6.683555917297777e-06\n",
      "6.6954671571289284e-06\n",
      "Loss at epoch 12 is: 0.4958945551587537\n",
      "-1.3544478508378139e-06\n",
      "-1.3537705907167113e-06\n",
      "Loss at epoch 13 is: 0.4969026838949962\n",
      "6.433754982184996e-06\n",
      "6.445942889692925e-06\n",
      "Loss at epoch 14 is: 0.49505532832898225\n",
      "-1.226164821580743e-06\n",
      "-1.2383893676347158e-06\n",
      "Loss at epoch 15 is: 0.4956046653087807\n",
      "3.7574404459459828e-06\n",
      "3.7780976237277943e-06\n",
      "Loss at epoch 16 is: 0.4953947960166568\n",
      "-1.526266977685492e-06\n",
      "-1.5067219244609765e-06\n",
      "Loss at epoch 17 is: 0.49629254495732633\n",
      "3.580608563724545e-06\n",
      "3.5821669328053218e-06\n",
      "Loss at epoch 18 is: 0.4951933546530351\n",
      "-1.588777786917156e-06\n",
      "-1.585453548675665e-06\n",
      "Loss at epoch 19 is: 0.49575995639960924\n",
      "2.1222402122772664e-06\n",
      "2.1048420178489083e-06\n",
      "Loss at epoch 20 is: 0.49518774335453913\n",
      "-1.1045972283975959e-06\n",
      "-1.1137878232860297e-06\n",
      "Loss at epoch 21 is: 0.4960377274720819\n",
      "1.6029131340462583e-06\n",
      "1.6035362903779657e-06\n",
      "Loss at epoch 22 is: 0.4950788306329102\n",
      "-7.001955800590701e-07\n",
      "-7.110914531148087e-07\n",
      "Loss at epoch 23 is: 0.4958661759561902\n",
      "1.0061391550278393e-06\n",
      "1.0189354468013581e-06\n",
      "Loss at epoch 24 is: 0.49502559339198204\n",
      "-3.574796263386681e-07\n",
      "-3.441026307579749e-07\n",
      "Loss at epoch 25 is: 0.49593066060308794\n",
      "6.850607753206178e-07\n",
      "6.86248279283607e-07\n",
      "Loss at epoch 26 is: 0.4949950104089349\n",
      "-9.103447101293547e-08\n",
      "-8.627847349555616e-08\n",
      "Loss at epoch 27 is: 0.49587444769088806\n",
      "4.567230865371024e-07\n",
      "4.57716823787912e-07\n",
      "Loss at epoch 28 is: 0.494996807609286\n",
      "6.906571254611918e-08\n",
      "7.444290229102295e-08\n",
      "Loss at epoch 29 is: 0.49586116098182786\n",
      "3.0445324250334447e-07\n",
      "2.977308288972959e-07\n",
      "Loss at epoch 30 is: 0.49501201024191727\n",
      "1.8979508915081836e-07\n",
      "2.0260234477609445e-07\n",
      "Loss at epoch 31 is: 0.4958226294641287\n",
      "1.9679743495837175e-07\n",
      "2.014244401090129e-07\n",
      "Loss at epoch 32 is: 0.4950286748569004\n",
      "2.6581776141764575e-07\n",
      "2.5287051867671086e-07\n",
      "Loss at epoch 33 is: 0.49579384312457975\n",
      "1.1636127745134122e-07\n",
      "1.3339962221210226e-07\n",
      "Loss at epoch 34 is: 0.49504536374033736\n",
      "3.2298901789732547e-07\n",
      "3.0868772736484616e-07\n",
      "Loss at epoch 35 is: 0.4957583824392536\n",
      "5.478657615442216e-08\n",
      "5.2291142037303186e-08\n",
      "Loss at epoch 36 is: 0.4950572121525194\n",
      "3.6407679192527594e-07\n",
      "3.5051977846851725e-07\n",
      "Loss at epoch 37 is: 0.4957188711041966\n",
      "4.797535417697709e-09\n",
      "3.05994685685841e-08\n",
      "Loss at epoch 38 is: 0.49506380183453785\n",
      "3.954175959160075e-07\n",
      "3.940646590741539e-07\n",
      "Loss at epoch 39 is: 0.495671493960379\n",
      "-3.721560163939564e-08\n",
      "-2.602002863539783e-08\n",
      "Loss at epoch 40 is: 0.4950637069418414\n",
      "4.1948667776723775e-07\n",
      "4.138300563052562e-07\n",
      "Loss at epoch 41 is: 0.49561240129014406\n",
      "-7.351758412084171e-08\n",
      "-6.887336235261136e-08\n",
      "Loss at epoch 42 is: 0.4950556470921173\n",
      "4.3679050906854347e-07\n",
      "4.429135512278114e-07\n",
      "Loss at epoch 43 is: 0.49553724019929934\n",
      "-1.0460169831806474e-07\n",
      "-1.1614027972526878e-07\n",
      "Loss at epoch 44 is: 0.495038951419018\n",
      "4.450719361852736e-07\n",
      "4.497066525267591e-07\n",
      "Loss at epoch 45 is: 0.49544021220221807\n",
      "-1.2786006416314506e-07\n",
      "-1.2534715392376674e-07\n",
      "Loss at epoch 46 is: 0.49501574630412815\n",
      "4.3535076929259417e-07\n",
      "4.404643994195667e-07\n",
      "Loss at epoch 47 is: 0.4953155913808966\n",
      "-1.3390039293224049e-07\n",
      "-1.301806890356962e-07\n",
      "Loss at epoch 48 is: 0.4950021807415364\n",
      "3.825479063153083e-07\n",
      "3.6759774913269006e-07\n",
      "Loss at epoch 49 is: 0.49516843279387934\n",
      "-9.749153471198919e-08\n",
      "-9.208241278583359e-08\n"
     ]
    }
   ],
   "source": [
    "%load_ext autoreload\n",
    "%autoreload 2\n",
    "\n",
    "checker = cls.GradientChecker()\n",
    "\n",
    "for epoch in range(epochs):\n",
    "\n",
    "    part_length = int(len(x_train) / batch_size)\n",
    "\n",
    "    if part_length * batch_size < len(x_train):\n",
    "        part_length += 1\n",
    "\n",
    "    batch_loss = 0\n",
    "    result_final=0\n",
    "    target_final=0\n",
    "\n",
    "    for i in range(part_length):\n",
    "\n",
    "        x_current = X[i * batch_size:(i + 1) * batch_size]\n",
    "        y_current = Y[i * batch_size:(i + 1) * batch_size]\n",
    "\n",
    "        memory = [np.zeros((batch_size, layer1_neurons))]\n",
    "\n",
    "        forward_rnn(memory_duration, x_current, y_current)\n",
    "        backward_rnn(memory_duration, x_current, y_current)\n",
    "\n",
    "        result, target = checker.check_custom(loss=loss_rnn, forward=forward_rnn, backward=backward_rnn, X=x_current, Y=y_current, memory_duration=memory_duration, print_out=False)\n",
    "\n",
    "        result_final+=result\n",
    "        target_final+=target\n",
    "\n",
    "\n",
    "        optimizerRNN.pre_update_params()\n",
    "        simple_optimizer.pre_update_params()\n",
    "        optimizerRNN.update_params(layer1_rnn)\n",
    "        simple_optimizer.update_params(layer3_rnn)\n",
    "\n",
    "        batch_loss += np.average(loss_rnn.outputs)\n",
    "\n",
    "    batch_loss /= part_length\n",
    "    result_final/= part_length\n",
    "    target_final/=part_length\n",
    "\n",
    "\n",
    "    print(\"Loss at epoch {} is: {}\".format(epoch, batch_loss))\n",
    "    print(result_final)\n",
    "    print(target_final)\n",
    "\n"
   ],
   "metadata": {
    "collapsed": false
   }
  },
  {
   "cell_type": "code",
   "execution_count": 12,
   "outputs": [
    {
     "name": "stdout",
     "output_type": "stream",
     "text": [
      "The autoreload extension is already loaded. To reload it, use:\n",
      "  %reload_ext autoreload\n"
     ]
    }
   ],
   "source": [
    "%load_ext autoreload\n",
    "%autoreload 2\n",
    "\n",
    "from  NNImplementation import BasicClasses as cls\n",
    "from  NNImplementation import RNNClasses as rnn\n",
    "\n",
    "epochs = 20\n",
    "batch_size = 16\n",
    "input_clases = x_train.shape[2]\n",
    "memory_duration = x_train.shape[1]\n",
    "layer1_neurons = 64\n",
    "layer2_neurons = 32\n",
    "\n",
    "optimizerRNN = rnn.OptimizerAdamLstm(learning_rate=0.001)\n",
    "simple_optimizer = cls.OptimizerAdam(learning_rate=0.001)\n",
    "\n",
    "layer1_lstm = rnn.LstmLayer(input_clases, layer1_neurons, memory_duration=memory_duration)\n",
    "activation1_lstm = cls.ActivationReLU()\n",
    "layer2_lstm = cls.Layer(layer1_neurons, layer2_neurons)\n",
    "activation2_lstm = cls.ActivationReLU()\n",
    "layer3_lstm = cls.Layer(layer2_neurons, 1)\n",
    "activation3_lstm = cls.ActivationSigmoid()\n",
    "loss_lstm = cls.LossMeanSquaredError()\n",
    "\n",
    "def reshape_inputs(x_current):\n",
    "\n",
    "    x_current = np.array([[x_current[i,j]   for i in range(len(x_current))] for j in range(len(x_current[0]))])\n",
    "\n",
    "    return x_current\n",
    "\n",
    "def forward_lstm(memory_duration, X_current, Y_current, add_epsilon=False, epsilon=0):\n",
    "\n",
    "    X_current = reshape_inputs(X_current)\n",
    "    layer1_lstm.forward_through_time(X_current, add_epsilon=add_epsilon, epsilon=epsilon)\n",
    "    activation1_lstm.forward(layer1_lstm.outputs)\n",
    "    layer2_lstm.forward(activation1_lstm.outputs)\n",
    "    activation2_lstm.forward(layer2_lstm.outputs)\n",
    "    layer3_lstm.forward(activation2_lstm.outputs)\n",
    "    activation3_lstm.forward(layer3_lstm.outputs)\n",
    "    loss_lstm.forward(activation3_lstm.outputs, Y_current[memory_duration-1])\n",
    "\n",
    "    return activation3_lstm.outputs\n",
    "\n",
    "def backward_lstm(memory_duration, X_current, Y_current):\n",
    "\n",
    "    X_current = reshape_inputs(X_current)\n",
    "    loss_lstm.backward(activation3_lstm.outputs, Y_current[memory_duration - 1])\n",
    "    activation3_lstm.backward(loss_lstm.dinputs)\n",
    "    layer3_lstm.backward(activation3_lstm.dinputs)\n",
    "    activation2_lstm.backward(layer3_lstm.dinputs)\n",
    "    layer2_lstm.backward(activation2_lstm.dinputs)\n",
    "    activation1_lstm.backward(layer2_lstm.dinputs)\n",
    "    layer1_lstm.backward_through_time(activation1_lstm.dinputs, X_current)\n",
    "\n",
    "    return layer1_lstm.deposit"
   ],
   "metadata": {
    "collapsed": false
   }
  },
  {
   "cell_type": "code",
   "execution_count": 13,
   "outputs": [
    {
     "name": "stdout",
     "output_type": "stream",
     "text": [
      "The autoreload extension is already loaded. To reload it, use:\n",
      "  %reload_ext autoreload\n",
      "Loss at epoch 0 is: 1.3265717339111722\n",
      "Loss at epoch 1 is: 1.2770707336992992\n",
      "Loss at epoch 2 is: 1.1601416533848177\n",
      "Loss at epoch 3 is: 1.0664842208700518\n",
      "Loss at epoch 4 is: 0.9959161971202817\n",
      "Loss at epoch 5 is: 0.9387158278187779\n",
      "Loss at epoch 6 is: 0.8911931327130974\n",
      "Loss at epoch 7 is: 0.8510434191418533\n",
      "Loss at epoch 8 is: 0.8167702506129416\n",
      "Loss at epoch 9 is: 0.787284326141607\n",
      "Loss at epoch 10 is: 0.7617385250379832\n",
      "Loss at epoch 11 is: 0.7394888461006202\n",
      "Loss at epoch 12 is: 0.7200025709238596\n",
      "Loss at epoch 13 is: 0.702836063286168\n",
      "Loss at epoch 14 is: 0.687622570984334\n",
      "Loss at epoch 15 is: 0.6740864845210005\n",
      "Loss at epoch 16 is: 0.6619748669479252\n",
      "Loss at epoch 17 is: 0.6510916046425991\n",
      "Loss at epoch 18 is: 0.6412690535049491\n",
      "Loss at epoch 19 is: 0.6323628253933123\n"
     ]
    }
   ],
   "source": [
    "%load_ext autoreload\n",
    "%autoreload 2\n",
    "\n",
    "#checker = cls.GradientChecker()\n",
    "\n",
    "for epoch in range(epochs):\n",
    "\n",
    "    part_length = int(len(x_train) / batch_size)\n",
    "\n",
    "    if part_length * batch_size < len(x_train):\n",
    "        part_length += 1\n",
    "\n",
    "    batch_loss = 0\n",
    "\n",
    "    for i in range(part_length):\n",
    "\n",
    "        x_current = X[i * batch_size:(i + 1) * batch_size]\n",
    "        y_current = Y[i * batch_size:(i + 1) * batch_size]\n",
    "\n",
    "        memory = [np.zeros((batch_size, layer1_neurons))]\n",
    "\n",
    "        forward_lstm(memory_duration, x_current, y_current)\n",
    "        backward_lstm(memory_duration, x_current, y_current)\n",
    "\n",
    "        optimizerRNN.pre_update_params()\n",
    "        simple_optimizer.pre_update_params()\n",
    "        optimizerRNN.update_params(layer1_lstm)\n",
    "        simple_optimizer.update_params(layer2_lstm)\n",
    "\n",
    "        batch_loss += np.average(loss_lstm.outputs)\n",
    "\n",
    "    batch_loss /= part_length\n",
    "\n",
    "    print(\"Loss at epoch {} is: {}\".format(epoch, batch_loss))\n",
    "\n"
   ],
   "metadata": {
    "collapsed": false
   }
  },
  {
   "cell_type": "code",
   "execution_count": 14,
   "outputs": [
    {
     "name": "stdout",
     "output_type": "stream",
     "text": [
      "127\n",
      "127/127 [==============================] - 0s 3ms/step\n",
      "127/127 [==============================] - 0s 2ms/step\n",
      "(127, 1)\n",
      "(127, 1)\n"
     ]
    },
    {
     "name": "stderr",
     "output_type": "stream",
     "text": [
      "<ipython-input-14-85c6a85923c8>:54: SettingWithCopyWarning: \n",
      "A value is trying to be set on a copy of a slice from a DataFrame.\n",
      "Try using .loc[row_indexer,col_indexer] = value instead\n",
      "\n",
      "See the caveats in the documentation: https://pandas.pydata.org/pandas-docs/stable/user_guide/indexing.html#returning-a-view-versus-a-copy\n",
      "  original['Date']=pd.to_datetime(original['Date'])\n"
     ]
    },
    {
     "data": {
      "text/plain": "<matplotlib.axes._subplots.AxesSubplot at 0x21660b30190>"
     },
     "execution_count": 14,
     "metadata": {},
     "output_type": "execute_result"
    },
    {
     "data": {
      "text/plain": "<Figure size 432x288 with 1 Axes>",
      "image/png": "[encoded data removed]"
     },
     "metadata": {},
     "output_type": "display_data"
    }
   ],
   "source": [
    "#Here we will compare the performances of our diffrent models\n",
    "#Libraries that will help us extract only business days in the US.\n",
    "#Otherwise our dates would be wrong when we look back (or forward).\n",
    "from pandas.tseries.holiday import USFederalHolidayCalendar\n",
    "from pandas.tseries.offsets import CustomBusinessDay\n",
    "us_bd = CustomBusinessDay(calendar=USFederalHolidayCalendar())\n",
    "#Remember that we can only predict one day in future as our model needs 5 variables\n",
    "#as inputs for prediction. We only have all 5 variables until the last day in our dataset.\n",
    "n_past = len(x_test)\n",
    "n_days_for_prediction = len(x_test) #let us predict past 15 days\n",
    "\n",
    "predict_period_dates = pd.date_range(list(train_dates)[-n_past], periods=n_days_for_prediction, freq=us_bd).tolist()\n",
    "print(len(predict_period_dates))\n",
    "\n",
    "#Make prediction\n",
    "prediction_lstm_keras = model_keras_lstm.predict(x_test, batch_size=1) #shape = (n, 1) where n is the n_days_for_prediction\n",
    "prediction_rnn_keras = model_keras_rnn.predict(x_test, batch_size=1) #shape = (n, 1) where n is the n_days_for_prediction\n",
    "prediction_rnn_nnfs = forward_rnn(memory_duration, x_test, y_test)\n",
    "prediction_lstm_nnfs = forward_lstm(memory_duration, x_test, y_test)\n",
    "\n",
    "\n",
    "print(np.shape(prediction_lstm_nnfs))\n",
    "print(np.shape(prediction_lstm_keras))\n",
    "\n",
    "#Perform inverse transformation to rescale back to original range\n",
    "#Since we used 5 variables for transform, the inverse expects same dimensions\n",
    "#Therefore, let us copy our values 5 times and discard them after inverse transform\n",
    "prediction_copies_lstm = np.repeat(prediction_lstm_keras, df_for_training.shape[1], axis=-1)\n",
    "prediction_copies_rnn = np.repeat(prediction_rnn_keras, df_for_training.shape[1], axis=-1)\n",
    "prediction_copies_rnn_nnfs = np.repeat(prediction_rnn_nnfs, df_for_training.shape[1], axis=-1)\n",
    "prediction_copies_lstm_nnfs = np.repeat(prediction_lstm_nnfs, df_for_training.shape[1], axis=-1)\n",
    "\n",
    "y_pred_future_lstm_nnfs = scaler.inverse_transform(prediction_copies_lstm_nnfs)[:,0]\n",
    "y_pred_future_lstm = scaler.inverse_transform(prediction_copies_lstm)[:,0]\n",
    "y_pred_future_rnn_nnfs = scaler.inverse_transform(prediction_copies_rnn_nnfs)[:,0]\n",
    "y_pred_future_rnn = scaler.inverse_transform(prediction_copies_rnn)[:,0]\n",
    "\n",
    "# Convert timestamp to date\n",
    "forecast_dates = []\n",
    "for time_i in predict_period_dates:\n",
    "    forecast_dates.append(time_i.date())\n",
    "\n",
    "df_forecast_rnn_nnfs = pd.DataFrame({'Date':np.array(forecast_dates), 'Close':y_pred_future_rnn_nnfs})\n",
    "df_forecast_lstm_nnfs = pd.DataFrame({'Date':np.array(forecast_dates), 'Close':y_pred_future_lstm_nnfs})\n",
    "df_forecast_lstm = pd.DataFrame({'Date':np.array(forecast_dates), 'Close':y_pred_future_lstm})\n",
    "df_forecast_rnn = pd.DataFrame({'Date':np.array(forecast_dates), 'Close':y_pred_future_rnn})\n",
    "\n",
    "df_forecast_rnn_nnfs['Date']=pd.to_datetime(df_forecast_rnn_nnfs['Date'])\n",
    "df_forecast_lstm_nnfs['Date']=pd.to_datetime(df_forecast_lstm_nnfs['Date'])\n",
    "df_forecast_lstm['Date']=pd.to_datetime(df_forecast_lstm['Date'])\n",
    "df_forecast_rnn['Date']=pd.to_datetime(df_forecast_rnn['Date'])\n",
    "\n",
    "original = df[['Date', 'Close']]\n",
    "original['Date']=pd.to_datetime(original['Date'])\n",
    "\n",
    "sns.lineplot(x=original['Date'][-n_days_for_prediction:-1], y=original['Close'][-n_days_for_prediction:-1], color=\"red\")\n",
    "\n",
    "sns.lineplot(x=df_forecast_rnn_nnfs['Date'], y=df_forecast_rnn_nnfs['Close'], color=\"purple\")\n",
    "#sns.lineplot(x=df_forecast_lstm['Date'], y=df_forecast_lstm['Close'], color=\"blue\")\n",
    "sns.lineplot(x=df_forecast_rnn['Date'], y=df_forecast_rnn['Close'], color=\"green\")"
   ],
   "metadata": {
    "collapsed": false
   }
  },
  {
   "cell_type": "code",
   "execution_count": null,
   "outputs": [],
   "source": [
    "sns.lineplot(x=original['Date'][-n_days_for_prediction:-1], y=original['Close'][-n_days_for_prediction:-1], color=\"red\")\n",
    "\n",
    "sns.lineplot(x=df_forecast_lstm_nnfs['Date'], y=df_forecast_lstm_nnfs['Close'], color=\"yellow\")\n",
    "sns.lineplot(x=df_forecast_lstm['Date'], y=df_forecast_lstm['Close'], color=\"blue\")"
   ],
   "metadata": {
    "collapsed": false,
    "pycharm": {
     "is_executing": true
    }
   }
  },
  {
   "cell_type": "code",
   "execution_count": 15,
   "outputs": [],
   "source": [],
   "metadata": {
    "collapsed": false
   }
  }
 ],
 "metadata": {
  "kernelspec": {
   "display_name": "Python 3",
   "language": "python",
   "name": "python3"
  },
  "language_info": {
   "codemirror_mode": {
    "name": "ipython",
    "version": 2
   },
   "file_extension": ".py",
   "mimetype": "text/x-python",
   "name": "python",
   "nbconvert_exporter": "python",
   "pygments_lexer": "ipython2",
   "version": "2.7.6"
  }
 },
 "nbformat": 4,
 "nbformat_minor": 0
}
