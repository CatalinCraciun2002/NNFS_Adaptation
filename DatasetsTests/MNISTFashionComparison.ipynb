{
 "cells": [
  {
   "cell_type": "code",
   "execution_count": 3,
   "metadata": {
    "collapsed": true
   },
   "outputs": [
    {
     "name": "stdout",
     "output_type": "stream",
     "text": [
      "C:\\Users\\craci\\DataSpellProjects\\Adaptation_NNfs\\fashion_mnist_images\\train\n"
     ]
    }
   ],
   "source": [
    "import os\n",
    "from PIL import Image\n",
    "import numpy as np\n",
    "from sklearn.model_selection import train_test_split\n",
    "\n",
    "final_path = os.getcwd().split('\\\\')[0] + \"\\\\\"\n",
    "\n",
    "for path in os.getcwd().split('\\\\')[1:-1]:\n",
    "    final_path = os.path.join(final_path, path)\n",
    "\n",
    "\n",
    "final_path = os.path.join(final_path, 'fashion_mnist_images')\n",
    "final_path_train = os.path.join(final_path, 'train')\n",
    "final_path_test = os.path.join(final_path, 'test')\n",
    "\n",
    "print(final_path_train)\n",
    "\n",
    "\n",
    "def load_data(size, path):\n",
    "\n",
    "    x = []\n",
    "    y = []\n",
    "\n",
    "    for cls in os.listdir(path):\n",
    "        for i, img in enumerate(os.listdir(os.path.join(path, cls))):\n",
    "            x.append(np.array(Image.open(os.path.join(os.path.join(path, cls), img))))\n",
    "            y.append(int(cls))\n",
    "            if i >= size-1:\n",
    "                break\n",
    "\n",
    "    y = np.expand_dims(y, axis=-1)\n",
    "\n",
    "    return np.array(x), np.array(y)\n",
    "\n",
    "def flatten_picture(x):\n",
    "    return np.array([[x_i[i,j] for i in range(len(x_i)) for j in range(len(x_i[0]))] for x_i in x])\n",
    "\n",
    "def remake_picture(x, picture_size=28):\n",
    "    return np.array([[[x_i[i*picture_size+j] for j in range(picture_size)] for i in range(picture_size)] for x_i in x])\n",
    "\n",
    "\n",
    "classes_dict= {\n",
    "    0:\t'T-shirt/top',\n",
    "    1:\t'Trouser',\n",
    "    2:\t'Pullover',\n",
    "    3:\t'Dress',\n",
    "    4:\t'Coat',\n",
    "    5:\t'Sandal',\n",
    "    6:\t'Shirt',\n",
    "    7:\t'Sneaker',\n",
    "    8:\t'Bag',\n",
    "    9:\t'Ankle boot'\n",
    "}\n"
   ]
  },
  {
   "cell_type": "code",
   "execution_count": 4,
   "outputs": [
    {
     "name": "stdout",
     "output_type": "stream",
     "text": [
      "(5000, 28, 28)\n",
      "(5000, 1)\n",
      "(4500, 28, 28)\n",
      "(4500, 1)\n",
      "(500, 28, 28)\n",
      "(500, 1)\n"
     ]
    }
   ],
   "source": [
    "x_train, y_train = load_data(500, final_path_train)\n",
    "\n",
    "print(np.shape(x_train))\n",
    "print(np.shape(y_train))\n",
    "\n",
    "y_train = y_train.astype(np.int8)\n",
    "\n",
    "x_train, x_valid, y_train, y_valid = train_test_split(x_train, y_train, shuffle=True, test_size=0.1)\n",
    "\n",
    "print(np.shape(x_train))\n",
    "print(np.shape(y_train))\n",
    "print(np.shape(x_valid))\n",
    "print(np.shape(y_valid))\n",
    "\n",
    "\n"
   ],
   "metadata": {
    "collapsed": false
   }
  },
  {
   "cell_type": "code",
   "execution_count": 3,
   "outputs": [
    {
     "data": {
      "text/plain": "<Figure size 1440x360 with 10 Axes>",
      "image/png": "[encoded data removed]"
     },
     "metadata": {},
     "output_type": "display_data"
    }
   ],
   "source": [
    "import matplotlib.pyplot as plt\n",
    "\n",
    "fig = plt.figure(figsize=(20,5))\n",
    "\n",
    "for i in range(10):\n",
    "    fig.add_subplot(2, 5, i+1) # first 2 params are the nr of img dim1 * dim2 and 3rd param is the image location\n",
    "    plt.imshow(x_train[i], cmap='gray')\n",
    "    plt.text(x=0, y = 31,s=classes_dict[y_train[i,0]], fontsize=15, color=\"white\")\n",
    "    plt.axis('off')\n",
    "\n"
   ],
   "metadata": {
    "collapsed": false
   }
  },
  {
   "cell_type": "code",
   "execution_count": 4,
   "outputs": [
    {
     "name": "stdout",
     "output_type": "stream",
     "text": [
      "784\n",
      "10\n",
      "(4518, 784)\n",
      "(502, 784)\n"
     ]
    }
   ],
   "source": [
    "x_train_flatten = flatten_picture(x_train)\n",
    "x_valid_flatten = flatten_picture(x_valid)\n",
    "\n",
    "x_train_flatten = x_train_flatten.astype(np.float32)\n",
    "x_valid_flatten = x_valid_flatten.astype(np.float32)\n",
    "\n",
    "x_train_flatten /= 255\n",
    "x_valid_flatten /= 255\n",
    "\n",
    "input_size = x_train_flatten.shape[1]\n",
    "output_size = np.max(y_train) + 1\n",
    "\n",
    "print(input_size)\n",
    "print(output_size)\n",
    "\n",
    "print(np.shape(x_train_flatten))\n",
    "print(np.shape(x_valid_flatten))"
   ],
   "metadata": {
    "collapsed": false
   }
  },
  {
   "cell_type": "code",
   "execution_count": 5,
   "outputs": [
    {
     "name": "stdout",
     "output_type": "stream",
     "text": [
      "{0: 459, 1: 452, 2: 457, 3: 454, 4: 447, 5: 442, 6: 460, 7: 443, 8: 454, 9: 450}\n",
      "{0: 43, 1: 50, 2: 45, 3: 48, 4: 55, 5: 60, 6: 42, 7: 59, 8: 48, 9: 52}\n"
     ]
    }
   ],
   "source": [
    "uniquet, countst = np.unique(y_train, return_counts=True)\n",
    "uniquev, countsv = np.unique(y_valid, return_counts=True)\n",
    "\n",
    "print( dict(zip(uniquet, countst)))\n",
    "print( dict(zip(uniquev, countsv)))\n"
   ],
   "metadata": {
    "collapsed": false
   }
  },
  {
   "cell_type": "code",
   "execution_count": 20,
   "outputs": [
    {
     "name": "stdout",
     "output_type": "stream",
     "text": [
      "Epoch 1/4\n",
      "71/71 [==============================] - 1s 12ms/step - loss: 1.2989 - val_loss: 0.9323\n",
      "Epoch 2/4\n",
      "71/71 [==============================] - 1s 7ms/step - loss: 0.9187 - val_loss: 0.8781\n",
      "Epoch 3/4\n",
      "71/71 [==============================] - 0s 5ms/step - loss: 0.8288 - val_loss: 0.7406\n",
      "Epoch 4/4\n",
      "71/71 [==============================] - 0s 5ms/step - loss: 0.7472 - val_loss: 0.7651\n"
     ]
    },
    {
     "data": {
      "text/plain": "<keras.callbacks.History at 0x26400bf1310>"
     },
     "execution_count": 20,
     "metadata": {},
     "output_type": "execute_result"
    }
   ],
   "source": [
    "#_________________________________________________________________\n",
    "#\n",
    "#                   Keras Implementation\n",
    "#\n",
    "#_________________________________________________________________\n",
    "\n",
    "from keras.layers import Dense, Input\n",
    "from keras.models import Model\n",
    "from keras.losses import sparse_categorical_crossentropy\n",
    "from keras.optimizers import Adam\n",
    "from keras.regularizers import l2\n",
    "\n",
    "input_layer = Input((input_size, ))\n",
    "\n",
    "d1 = Dense(512, kernel_regularizer=l2(5e-4), bias_regularizer=l2(5e-4), activation='relu')(input_layer)\n",
    "d2 = Dense(512, kernel_regularizer=l2(5e-4), bias_regularizer=l2(5e-4), activation='relu')(d1)\n",
    "output_layer = Dense(output_size, kernel_regularizer=l2(5e-4), bias_regularizer=l2(5e-4), activation='softmax')(d2)\n",
    "\n",
    "moldel_keras = Model(inputs=input_layer, outputs=output_layer)\n",
    "moldel_keras.compile(loss=sparse_categorical_crossentropy, optimizer=Adam(learning_rate=0.001))\n",
    "\n",
    "moldel_keras.fit(x=x_train_flatten, y=y_train, batch_size=64, epochs=4, validation_data=(x_valid_flatten, y_valid))\n"
   ],
   "metadata": {
    "collapsed": false
   }
  },
  {
   "cell_type": "code",
   "execution_count": 14,
   "outputs": [
    {
     "name": "stdout",
     "output_type": "stream",
     "text": [
      "The autoreload extension is already loaded. To reload it, use:\n",
      "  %reload_ext autoreload\n",
      "_____________________________________________\n",
      "Epoch  0\n",
      "Current loss is:  3.1921027848420667\n",
      "Current validation loss is:  9.788495904387693\n",
      "_____________________________________________\n",
      "_____________________________________________\n",
      "Epoch  1\n",
      "Current loss is:  2.298696837364156\n",
      "Current validation loss is:  8.462832354651995\n",
      "_____________________________________________\n",
      "_____________________________________________\n",
      "Epoch  2\n",
      "Current loss is:  1.947112846098258\n",
      "Current validation loss is:  7.025761090805141\n",
      "_____________________________________________\n",
      "_____________________________________________\n",
      "Epoch  3\n",
      "Current loss is:  2.0343495065126347\n",
      "Current validation loss is:  9.581644458996252\n",
      "_____________________________________________\n",
      "_____________________________________________\n",
      "Epoch  4\n",
      "Current loss is:  2.385403184570344\n",
      "Current validation loss is:  9.161892037703328\n",
      "_____________________________________________\n",
      "_____________________________________________\n",
      "Epoch  5\n",
      "Current loss is:  2.0400079921595595\n",
      "Current validation loss is:  7.759926465302049\n",
      "_____________________________________________\n",
      "_____________________________________________\n",
      "Epoch  6\n",
      "Current loss is:  1.6837857009227746\n",
      "Current validation loss is:  7.2509905490986135\n",
      "_____________________________________________\n",
      "_____________________________________________\n",
      "Epoch  7\n",
      "Current loss is:  1.8518063057976235\n",
      "Current validation loss is:  7.86724393135797\n",
      "_____________________________________________\n",
      "_____________________________________________\n",
      "Epoch  8\n",
      "Current loss is:  1.8385699723996467\n",
      "Current validation loss is:  7.209934676155804\n",
      "_____________________________________________\n",
      "_____________________________________________\n",
      "Epoch  9\n",
      "Current loss is:  1.5410975631454482\n",
      "Current validation loss is:  6.99313261391357\n",
      "_____________________________________________\n"
     ]
    }
   ],
   "source": [
    "%load_ext autoreload\n",
    "%autoreload 2\n",
    "from NNImplementation import BasicClasses as cls, ModelClassIntegration\n",
    "from NNImplementation.ModelClassIntegration import Model\n",
    "\n",
    "model_NNFS = Model()\n",
    "\n",
    "model_NNFS.add_layer(cls.Layer(input_size, 512, l2_biases_regularization=5e-3, l2_weights_regularization=5e-3), trainable_layer=True)\n",
    "model_NNFS.add_layer(cls.ActivationReLU())\n",
    "model_NNFS.add_layer(cls.Layer(512,512,l2_biases_regularization=5e-3, l2_weights_regularization= 5e-3),trainable_layer=True)\n",
    "model_NNFS.add_layer(cls.ActivationReLU())\n",
    "model_NNFS.add_layer(cls.Layer(512, output_size), trainable_layer=True)\n",
    "model_NNFS.add_layer(cls.ActivationSoftmax())\n",
    "\n",
    "model_NNFS.set(optimizer=cls.OptimizerAdam(0.02, decay=5e-4, beta_2=0.999),\n",
    "               loss=cls.CategoricalCrossEntropyLossFunction(),\n",
    "               loss_softmax_merge=cls.CategoricalCrossEntropySoftmaxActivation())\n",
    "\n",
    "model_NNFS.train(X=x_train_flatten, Y=y_train, batch_size=64, epochs=10,\n",
    "                 print_every=1, X_validation=x_valid_flatten,\n",
    "                 Y_validation=y_valid, regularization_loss_on=True)\n"
   ],
   "metadata": {
    "collapsed": false
   }
  },
  {
   "cell_type": "code",
   "execution_count": 21,
   "outputs": [
    {
     "name": "stdout",
     "output_type": "stream",
     "text": [
      "(1020, 28, 28)\n",
      "(1020, 1)\n",
      "(1020, 784)\n",
      "32/32 [==============================] - 0s 4ms/step\n",
      "(1020, 1)\n",
      "(1020, 10)\n",
      "(1020, 10)\n"
     ]
    }
   ],
   "source": [
    "x_test, y_test = load_data(100, final_path_test)\n",
    "\n",
    "print(np.shape(x_test))\n",
    "print(np.shape(y_test))\n",
    "\n",
    "x_test_flatten = flatten_picture(x_test)\n",
    "x_test_flatten = x_test_flatten.astype(np.float32)\n",
    "x_test_flatten /= 255\n",
    "\n",
    "print(np.shape(x_test_flatten))\n",
    "\n",
    "predictions_model_NNFS = model_NNFS.forward(x_test_flatten)\n",
    "predictions_model_keras = moldel_keras.predict(x_test_flatten)\n",
    "\n",
    "#predictions_model_NNFS = np.argmax(predictions_model_NNFS, axis=-1)\n",
    "#predictions_model_keras = np.argmax(predictions_model_keras, axis=-1)\n",
    "\n",
    "# predictions_model_NNFS = np.expand_dims(predictions_model_NNFS, axis=-1)\n",
    "# predictions_model_keras = np.expand_dims(predictions_model_keras, axis=-1)\n",
    "\n",
    "print(np.shape(y_test))\n",
    "print(np.shape(predictions_model_NNFS))\n",
    "print(np.shape(predictions_model_keras))\n"
   ],
   "metadata": {
    "collapsed": false
   }
  },
  {
   "cell_type": "code",
   "execution_count": 22,
   "outputs": [
    {
     "name": "stdout",
     "output_type": "stream",
     "text": [
      "0.74607843\n",
      "0.8215686\n"
     ]
    }
   ],
   "source": [
    "from keras.metrics import categorical_accuracy, sparse_categorical_accuracy\n",
    "\n",
    "acc_NNFS = (sparse_categorical_accuracy(y_test, predictions_model_NNFS).numpy())\n",
    "acc_keras = (sparse_categorical_accuracy(y_test, predictions_model_keras).numpy())\n",
    "\n",
    "\n",
    "\n",
    "print(np.mean(acc_NNFS))\n",
    "print(np.mean(acc_keras))"
   ],
   "metadata": {
    "collapsed": false
   }
  },
  {
   "cell_type": "code",
   "execution_count": 20,
   "outputs": [
    {
     "name": "stdout",
     "output_type": "stream",
     "text": [
      "{0: 115, 1: 132, 2: 152, 3: 103, 4: 72, 5: 75, 6: 5, 7: 108, 8: 115, 9: 143}\n",
      "{0: 126, 1: 100, 2: 147, 3: 96, 4: 63, 5: 90, 6: 77, 7: 119, 8: 106, 9: 96}\n"
     ]
    }
   ],
   "source": [
    "uniquep1, countsp1 = np.unique(predictions_model_NNFS, return_counts=True)\n",
    "uniquep2, countsp2 = np.unique(predictions_model_keras, return_counts=True)\n",
    "\n",
    "print( dict(zip(uniquep1, countsp1)))\n",
    "print( dict(zip(uniquep2, countsp2)))\n",
    "\n"
   ],
   "metadata": {
    "collapsed": false
   }
  },
  {
   "cell_type": "code",
   "execution_count": 48,
   "outputs": [
    {
     "name": "stdout",
     "output_type": "stream",
     "text": [
      "(1020, 28, 28)\n",
      "(1020, 28, 28)\n"
     ]
    },
    {
     "data": {
      "text/plain": "<Figure size 1080x1008 with 12 Axes>",
      "image/png": "[encoded data removed]"
     },
     "metadata": {
      "needs_background": "light"
     },
     "output_type": "display_data"
    }
   ],
   "source": [
    "import matplotlib.pyplot as plt\n",
    "from sklearn.utils import  shuffle\n",
    "\n",
    "print(np.shape(x_test))\n",
    "\n",
    "x_test, y_test, predictions_model_NNFS, predictions_model_keras = shuffle(x_test, y_test, predictions_model_NNFS, predictions_model_keras, random_state=0)\n",
    "\n",
    "print(np.shape(x_test))\n",
    "\n",
    "nr_of_images = 12\n",
    "\n",
    "fig = plt.figure(figsize=(15,nr_of_images+2))\n",
    "\n",
    "for i in range(nr_of_images):\n",
    "    fig.add_subplot(nr_of_images/4, 4, i+1) # first 2 params are the nr of img dim1 * dim2 and 3rd param is the image location\n",
    "    plt.imshow(x_test[i], cmap='gray')\n",
    "    plt.text(x=0, y = 31,s=classes_dict[y_test[i,0]], fontsize=15, color=\"white\")\n",
    "    plt.text(x=0, y = 34,s=classes_dict[predictions_model_keras[i,0]], fontsize=15, color=\"yellow\")\n",
    "    plt.text(x=0, y = 37,s=classes_dict[predictions_model_NNFS[i,0]], fontsize=15, color=\"red\")\n",
    "    plt.axis('off')\n"
   ],
   "metadata": {
    "collapsed": false
   }
  },
  {
   "cell_type": "code",
   "execution_count": 11,
   "outputs": [],
   "source": [],
   "metadata": {
    "collapsed": false
   }
  }
 ],
 "metadata": {
  "kernelspec": {
   "display_name": "Python 3",
   "language": "python",
   "name": "python3"
  },
  "language_info": {
   "codemirror_mode": {
    "name": "ipython",
    "version": 2
   },
   "file_extension": ".py",
   "mimetype": "text/x-python",
   "name": "python",
   "nbconvert_exporter": "python",
   "pygments_lexer": "ipython2",
   "version": "2.7.6"
  }
 },
 "nbformat": 4,
 "nbformat_minor": 0
}
